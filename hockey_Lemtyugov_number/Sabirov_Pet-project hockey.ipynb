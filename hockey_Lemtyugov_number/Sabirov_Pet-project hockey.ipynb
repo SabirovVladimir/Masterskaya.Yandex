{
 "cells": [
  {
   "cell_type": "markdown",
   "id": "35a7f6bf",
   "metadata": {},
   "source": [
    "# Проект “Хоккей: расчет числа Лемтюгова”"
   ]
  },
  {
   "cell_type": "markdown",
   "id": "ebf45619",
   "metadata": {},
   "source": [
    "Цель проекта: \n",
    "Создать аналог числа Эрдёша — Бэйкона для отечественных хоккеистов, называемый числом, чтобы измерять \"близость\" хоккеистов к Николаю Лемтюгову через команды, в которых они играли."
   ]
  },
  {
   "cell_type": "markdown",
   "id": "daba657f",
   "metadata": {},
   "source": [
    "Задачи проекта:\n",
    "   1. Собрать данные об отечественных хоккеистах и командах, в которых они играли.\n",
    "   2. Рассчитать число Лемтюгова для каждого хоккеиста.\n",
    "   3. Построить дэшборд или отчет с графами, отображающими связи между хоккеистами и количеством команд, через которые они были связаны."
   ]
  },
  {
   "cell_type": "markdown",
   "id": "60a30a14",
   "metadata": {},
   "source": [
    "Техническое задание:\n",
    "   1. Сбор и обработка данных\n",
    "       ◦ Были собраны 4 датасета: \n",
    "           ▪ players_data.csv - датасет из всех игроков, заигранных за команды КХЛ, начиная с сезона 2008-2009. Данные с сайта eliteprospects.com.\n",
    "           ▪ transfers.csv - датасет всех переходов игроков из всех лиг, первый трансфер 14/12/2007. Данные с сайта eliteprospects.com.\n",
    "           ▪ players_personal_data.csv - датасет с личными данными игроков\n",
    "           ▪ player_stats.csv - датасет со статистикой игроков\n",
    "       ◦ Подробное описание датасетов в файле. \n",
    "       ◦ Необходимо исследовать данные и объединить датасеты в соответствии с задачами.\n",
    "   2. Расчет числа Лемтюгова\n",
    "       ◦ Для каждого хоккеиста необходимо рассчитать число Лемтюгова.\n",
    "       ◦ Число Лемтюгова можно определить как минимальное количество команд, через которые данный хоккеист связан с Николаем Лемтюговым.\n",
    "Одноклубниками считаются хоккеисты, которые были участниками одной команды в одно время (с учетом переходов игроков).\n",
    "Учитываются одноклубники по лиге КХЛ.\n",
    "       ◦ Для расчета числа Лемтюгова можно использовать алгоритм поиска в ширину (BFS) или поиск в глубину (DFS) - либо другое решение, главное - сделать корректный расчет показателя.\n",
    "   3. Проверка гипотез (можно взять не весь список в работу или проверить гипотезы, не указанные в списке):\n",
    "       ◦ проверить гипотезу о том, что Лемтюгов – самый популярный хоккеист в лиге, то есть обладающий самым большим количеством одноклубников. Если это не так, составить список наиболее популярных игроков.\n",
    "       ◦ правда ли, что игроки с низким значением числа Лемтюгова играли в среднем в большем количестве команд, чем игроки, у которых это значение больше?\n",
    "       ◦ есть ли игроки, у которых отсутствует число Лемтюгова (нет связей через других игроков)?\n",
    "       ◦ каково медианное значение числа Лемтюгова? Как это значение менялось от сезона к сезону?\n",
    "       ◦ проверить, есть ли связь между количеством переходов и ростом/весом игрока (предполагаем, что игроки, у которых рост выше, лучше играют в хоккей и соответственно чаще переходят из клуба в клуб).\n",
    "       ◦ проверить, есть ли связь между местом рождения игрока и его успехами (предполагаем, что жители северных городов - более успешные хоккеисты).\n",
    "       ◦ проверить, верна ли гипотеза о том, что более успешные хоккеисты рождаются в январе-марте.\n",
    "       ◦ (*) Провести кластеризацию/сегментацию игроков, используя признаки в данных (можно использовать имеющиеся признаки или сгенерировать свои).\n",
    "\n",
    "Как оценивать успешность игрока - предлагаем выбрать критерий успешности самостоятельно.\n",
    "\n",
    "Как пример можно использовать следующие критерии.\n",
    "По наградам:\n",
    "- Кубок Гагарина - это главный трофей КХЛ, международные соревнования - ЧМ, Олимпиада;\n",
    "- можно ещё считать итоговые индивидуальные награды, т.е. \"Лучший нападающий\" например. \n",
    "\n",
    "По статистике игр.\n",
    "Можно разделить успешных игроков по амплуа (вратари, защитники, нападающие) и посчитать отдельно, по разным критериям (сухие матчи + процент отраженных бросков, +/-, голы+ передачи).\n",
    "И для каждого амплуа подсчитать отдельный рейтинг игроков.\n",
    "Нападающие, например, — строим три рейтинга по очкам, голам, передачам, и можно сделать итоговый рейтинг как сумму мест в этих трех. Получится, что мы выстроили по успешности всех нападающих. Соответственно, чем выше игрок в этом рейтинге, тем он успешнее.\n",
    "\n",
    "   4. Визуализация данных или презентация\n",
    "       ◦ Для отображения результатов исследования необходимо создать дэшборд или отчет с использованием специализированных инструментов, таких как DataLens, Tableau, Power BI или другие.\n",
    "       ◦ На дэшборде или в отчете должны быть представлены графики и таблицы, отображающие связи между хоккеистами и количеством команд, через которые они были связаны.\n",
    "       ◦ (*) Найти топ-5 игроков по количеству переходов и построить sankey chart, который покажет их переходы.\n",
    "   5. Тестирование\n",
    "       ◦ После завершения работы над проектом необходимо протестировать его на соответствие заявленным требованиям.\n",
    "       ◦ Тестирование может проводиться путем сравнения результатов расчета числа Лемтюгова для некоторых хоккеистов с известными результатами.\n",
    "   6. Доработка и оптимизация\n",
    "       ◦ В случае необходимости, после тестирования проект может быть доработан или оптимизирован для улучшения его производительности или точности результатов расчетов.\n"
   ]
  },
  {
   "cell_type": "markdown",
   "id": "423600e9",
   "metadata": {},
   "source": [
    "# Ссылка на презентацию \n",
    "https://drive.google.com/file/d/1DeRWk8sYwRCr0pFb-WrwopUb2Yuf01q4/view?usp=sharing"
   ]
  },
  {
   "cell_type": "code",
   "execution_count": null,
   "id": "273238b4",
   "metadata": {
    "ExecuteTime": {
     "end_time": "2023-08-04T07:54:23.754922Z",
     "start_time": "2023-08-04T07:54:23.498654Z"
    },
    "scrolled": true
   },
   "outputs": [],
   "source": [
    "import pandas as pd \n",
    "import numpy as np\n",
    "from datetime import datetime\n",
    "\n",
    "# библиотека для парсинга\n",
    "import json\n",
    "\n",
    "# основные графические библиотеки\n",
    "import matplotlib.pyplot as plt\n",
    "import seaborn as sns\n",
    "import plotly.express as px\n",
    "import plotly.graph_objects as go\n",
    "\n",
    "# библиотека визуализации bokeh и фронтенд для вывода - holoviews\n",
    "import holoviews as hv\n",
    "import bokeh\n",
    "from holoviews import opts, dim\n",
    "import holoviews.plotting.bokeh\n",
    "from holoviews.operation.datashader import datashade, bundle_graph\n",
    "from bokeh.plotting import show, output_file\n",
    "hv.extension('bokeh')\n",
    "\n",
    "import requests\n",
    "\n",
    "from tqdm import tqdm\n",
    "\n",
    "from queue import Queue\n",
    "\n",
    "import scipy\n",
    "from scipy.sparse import csr_matrix\n",
    "\n",
    "import networkx as nx"
   ]
  },
  {
   "cell_type": "code",
   "execution_count": null,
   "id": "1b3ff832",
   "metadata": {
    "ExecuteTime": {
     "end_time": "2023-08-04T07:54:23.769956Z",
     "start_time": "2023-08-04T07:54:23.757922Z"
    }
   },
   "outputs": [],
   "source": [
    "pd.options.mode.chained_assignment = None"
   ]
  },
  {
   "cell_type": "code",
   "execution_count": null,
   "id": "fc363782",
   "metadata": {
    "ExecuteTime": {
     "end_time": "2023-08-04T07:54:25.027041Z",
     "start_time": "2023-08-04T07:54:23.773888Z"
    },
    "scrolled": true
   },
   "outputs": [],
   "source": [
    "# загружаю данные\n",
    "try:\n",
    "    players = pd.read_csv(\n",
    "        r\"D:\\DOCS\\datasets\\Пэт-проект Хоккей/players_data.csv\")\n",
    "    transfers = pd.read_csv(\n",
    "        r\"D:\\DOCS\\datasets\\Пэт-проект Хоккей/transfers.csv\")\n",
    "    personal_data = pd.read_csv(\n",
    "        r\"D:\\DOCS\\datasets\\Пэт-проект Хоккей/players_personal_data.csv\")\n",
    "    stats = pd.read_csv(\n",
    "        r\"D:\\DOCS\\datasets\\Пэт-проект Хоккей/players_stats.csv\")\n",
    "except FileNotFoundError:\n",
    "    players = pd.read_csv('/datasets/players_data.csv')\n",
    "    transfers = pd.read_csv('/datasets/transfers.csv')\n",
    "    personal_data = pd.read_csv('/datasets/players_personal_data.csv')\n",
    "    stats = pd.read_csv('/datasets/players_stats.csv')"
   ]
  },
  {
   "cell_type": "markdown",
   "id": "151a3b92",
   "metadata": {},
   "source": [
    "# Ознакомление с данными и предобработка."
   ]
  },
  {
   "cell_type": "code",
   "execution_count": null,
   "id": "09960f14",
   "metadata": {
    "ExecuteTime": {
     "end_time": "2023-08-04T07:54:25.057850Z",
     "start_time": "2023-08-04T07:54:25.034012Z"
    },
    "scrolled": true
   },
   "outputs": [],
   "source": [
    "# функция для подготовки и отображения таблиц\n",
    "def basic_information(x):\n",
    "    x.columns = [m.lower() for m in x.columns]\n",
    "    display(x.head(10))\n",
    "    x.info()\n",
    "    print('*'*50)\n",
    "    print('Дубликатов', x.duplicated().sum())\n",
    "    x = x.drop_duplicates().reset_index(drop=True)\n",
    "    print('*'*50)\n",
    "    print('Количество пропусков')\n",
    "    display(x.isna().sum())"
   ]
  },
  {
   "cell_type": "markdown",
   "id": "5021c3ef",
   "metadata": {},
   "source": [
    "Описание данных players\n",
    "* team - команда\n",
    "* season - сезон\n",
    "* player - Имя игрока\n",
    "* player_number - игровой номер\n",
    "* position - игровое амплуа, возможные значения:\n",
    "* g - голкипер\n",
    "* d - защитник\n",
    "* rw - правый вингер\n",
    "* lw - левый вингер\n",
    "* c - центр-форвард\n",
    "* f - форвард\n",
    "* w - вингер\n",
    "* сочетания через /\n",
    "* captain - статус игрока:\n",
    "* c - капитан\n",
    "* a - ассистент\n",
    "* born - год рождения\n",
    "* birthplace - место рождения\n",
    "* age - возраст на момент парсинга, 5 jun 2023\n",
    "* height - рост в см\n",
    "* weight - вес в кг\n",
    "* stick - хват клюшки\n",
    "* player_link - ссылка на страницу игрока, уникальное поле"
   ]
  },
  {
   "cell_type": "code",
   "execution_count": null,
   "id": "aa559098",
   "metadata": {
    "ExecuteTime": {
     "end_time": "2023-08-04T07:54:25.182027Z",
     "start_time": "2023-08-04T07:54:25.065185Z"
    },
    "scrolled": false
   },
   "outputs": [],
   "source": [
    "basic_information(players)"
   ]
  },
  {
   "cell_type": "markdown",
   "id": "2bac3b82",
   "metadata": {},
   "source": [
    "Описание данных transfers\n",
    "* date - дата перехода\n",
    "* player - имя игрока\n",
    "* player_link - ссылка на страницу игрока\n",
    "* from_team - старая команда\n",
    "* from_team_link - ссылка на старую команду\n",
    "* to_team - новая команда\n",
    "* to_team_link - ссылка на новую команду"
   ]
  },
  {
   "cell_type": "code",
   "execution_count": null,
   "id": "83f3f8a4",
   "metadata": {
    "ExecuteTime": {
     "end_time": "2023-08-04T07:54:25.917580Z",
     "start_time": "2023-08-04T07:54:25.185957Z"
    }
   },
   "outputs": [],
   "source": [
    "basic_information(transfers)"
   ]
  },
  {
   "cell_type": "markdown",
   "id": "4164527a",
   "metadata": {},
   "source": [
    "Описание данных personal_data\n",
    "* player_name - имя игрока\n",
    "* date_of_birth - полная дата рождения\n",
    "* position - игровое амплуа, значения как в players_data\n",
    "* age - полных лет на момент выборки, 14 jun 23\n",
    "* place_of_birth - место рождения, через запятую трёхбуквенное обозначение страны\n",
    "* nation - гражданство, если несколько, то перечислены через /\n",
    "* grip - хват клюшки\n",
    "* youth_Team - молодежная команда, в которой игрок начинал карьеру\n",
    "* height_cm - рост в см\n",
    "* height_ft - рост в футах\n",
    "* weight_kg - вес в кг\n",
    "* weight_lbs - вес в фунтах\n",
    "* awards - список наград по сезонам в формате JSON\n",
    "* player_link - ссылка на страницу игрока, уникальное поле"
   ]
  },
  {
   "cell_type": "code",
   "execution_count": null,
   "id": "6b428f10",
   "metadata": {
    "ExecuteTime": {
     "end_time": "2023-08-04T07:54:25.996500Z",
     "start_time": "2023-08-04T07:54:25.921503Z"
    }
   },
   "outputs": [],
   "source": [
    "basic_information(personal_data)"
   ]
  },
  {
   "cell_type": "markdown",
   "id": "974c6ab9",
   "metadata": {},
   "source": [
    "Описание данных stats\n",
    "* player_name - имя игрока\n",
    "* season - сезон\n",
    "* team - команда\n",
    "* league - лига\n",
    "* player_link - ссылка на страницу игрока\n",
    "* pегулярный сезон\n",
    "* regular_games_played - количество сыгранных игр\n",
    "* Показатели только для полевых игроков (регулярный сезон)\n",
    "* regular_goals - количество голов\n",
    "* regular_assists - количество передач\n",
    "* regular_total_points - общее количество очков\n",
    "* regular_penalty_minutes - количество штрафных минут\n",
    "* regular_plus_minus - показатель плюс-минус\n",
    "* Показатели только для вратарей (регулярный сезон)\n",
    "* regular_games_dressed - количество игр, на которых вратарь был заявлен на игру, но сидел в запасе\n",
    "* regular_gaa - коэффициент надёжности, показывает, сколько в среднем шайб пропускает вратарь за 60 минут игрового времени\n",
    "* regular_saves_percentage - процент отраженных бросков\n",
    "* regular_goals_against - количество пропущенных голов\n",
    "* regular_saves- количество сейвов\n",
    "* regular_shutouts - количество игр на ноль\n",
    "* regular_wlt - win-lose-tie, соотношение выигранных, проигранных и ничейных (в основное время) игр\n",
    "* regular_toi - время на льду\n",
    "* Плей-офф (аналогично с регулярным сезоном)\n",
    "* postseason_games_played\n",
    "* Показатели только для полевых игроков (плей-офф)\n",
    "* postseason_goals\n",
    "* postseason_assists\n",
    "* postseason_total_points\n",
    "* postseason_penalty_minutes\n",
    "* postseason_plus_minus\n",
    "* Показатели только для вратарей (плей-офф)\n",
    "* Postseason_games_dressed\n",
    "* Postseason_gaa\n",
    "* Postseason_saves_percentage\n",
    "* Postseason_goals_against\n",
    "* Postseason_saves\n",
    "* Postseason_shutouts\n",
    "* Postseason_wlt\n",
    "* Postseason_toi* "
   ]
  },
  {
   "cell_type": "code",
   "execution_count": null,
   "id": "cadf23fc",
   "metadata": {
    "ExecuteTime": {
     "end_time": "2023-08-04T07:54:26.610915Z",
     "start_time": "2023-08-04T07:54:25.999599Z"
    },
    "scrolled": false
   },
   "outputs": [],
   "source": [
    "basic_information(stats)"
   ]
  },
  {
   "cell_type": "markdown",
   "id": "3cb5542d",
   "metadata": {},
   "source": [
    "## Вывод\n",
    "По итогам ознакомления с данными и предобработки:\n",
    "* В таблице players дубликатов не выявлено. Обнаружены пропуски в колонке captain(статус игрока) - 13295, birthplace(место рождения) - 61, age(возраст) - 98. \n",
    "* В таблице transfers выявлено 7 дубликатов. Обнаружены пропуски в столбце from_team_link(ссылка на старую команду) - 8977, to_team_link(ссылка на новую команду) - 10259\n",
    "* В таблице personal_data дубликатов и пропусков не обнаружено.\n",
    "* В таблице stats дубликатов не выявлено. Выявлено большое количество пропусков. Пропусков не выявлено в столбцах player_name, season, team, player_link.\n",
    "\n",
    "Пропуски в данных, вероятно обусловлены особенностями парсинга. Для дальнейшего анализа будет необходима только информация об игроках и командах из КХЛ лиги."
   ]
  },
  {
   "cell_type": "markdown",
   "id": "70d4475f",
   "metadata": {},
   "source": [
    "# Исследовательский анализ данных."
   ]
  },
  {
   "cell_type": "markdown",
   "id": "8e6449e3",
   "metadata": {},
   "source": [
    "## stats. "
   ]
  },
  {
   "cell_type": "code",
   "execution_count": null,
   "id": "06582357",
   "metadata": {
    "ExecuteTime": {
     "end_time": "2023-08-04T07:54:26.688086Z",
     "start_time": "2023-08-04T07:54:26.622923Z"
    }
   },
   "outputs": [],
   "source": [
    "# провел фильтрацию таблицы stats. В полученной таблице остались только игроки, игравшие в КХЛ\n",
    "filtered_stats = stats[stats['player_link'].isin(personal_data['player_link'])]\n",
    "filtered_stats.shape"
   ]
  },
  {
   "cell_type": "code",
   "execution_count": null,
   "id": "a4207aa9",
   "metadata": {
    "ExecuteTime": {
     "end_time": "2023-08-04T07:54:26.703446Z",
     "start_time": "2023-08-04T07:54:26.692440Z"
    }
   },
   "outputs": [],
   "source": [
    "# для дальнейшего анализа в таблице filtered_stats оставил столбцы player_name, season, team, league, player_link.\n",
    "stats_1 = filtered_stats[['player_name',\n",
    "                          'season', 'team', 'league', 'player_link']]"
   ]
  },
  {
   "cell_type": "code",
   "execution_count": null,
   "id": "baeba455",
   "metadata": {
    "ExecuteTime": {
     "end_time": "2023-08-04T07:54:27.326663Z",
     "start_time": "2023-08-04T07:54:26.706881Z"
    }
   },
   "outputs": [],
   "source": [
    "# выделил id игрока из player_link\n",
    "stats_1['player_id'] = stats_1['player_link'].str.split(\n",
    "    '/', expand=True)[4].astype(int)"
   ]
  },
  {
   "cell_type": "code",
   "execution_count": null,
   "id": "bc58fd0c",
   "metadata": {
    "ExecuteTime": {
     "end_time": "2023-08-04T07:54:27.357033Z",
     "start_time": "2023-08-04T07:54:27.332722Z"
    }
   },
   "outputs": [],
   "source": [
    "# отследил количество уникальных id после фильтрации по player_link из таблицы personal_data\n",
    "stats_1['player_id'].nunique()"
   ]
  },
  {
   "cell_type": "code",
   "execution_count": null,
   "id": "b29f75ab",
   "metadata": {
    "ExecuteTime": {
     "end_time": "2023-08-04T07:54:27.387492Z",
     "start_time": "2023-08-04T07:54:27.361152Z"
    }
   },
   "outputs": [],
   "source": [
    "stats_1"
   ]
  },
  {
   "cell_type": "code",
   "execution_count": null,
   "id": "7e24b244",
   "metadata": {
    "ExecuteTime": {
     "end_time": "2023-08-04T07:54:27.418509Z",
     "start_time": "2023-08-04T07:54:27.393692Z"
    }
   },
   "outputs": [],
   "source": [
    "# сделал срез статистики игроков только KHL лиги\n",
    "stats_KHL = stats_1.loc[stats_1['league'].values == 'KHL']\n",
    "stats_KHL.shape"
   ]
  },
  {
   "cell_type": "code",
   "execution_count": null,
   "id": "265144a6",
   "metadata": {
    "ExecuteTime": {
     "end_time": "2023-08-04T07:54:27.434502Z",
     "start_time": "2023-08-04T07:54:27.424433Z"
    }
   },
   "outputs": [],
   "source": [
    "# отседил количество уникальных id после фильтрации по лигк\n",
    "stats_KHL['player_id'].nunique()"
   ]
  },
  {
   "cell_type": "markdown",
   "id": "644626b8",
   "metadata": {},
   "source": [
    "Отсутствует статистика о 18 игроках "
   ]
  },
  {
   "cell_type": "code",
   "execution_count": null,
   "id": "b60e9150",
   "metadata": {
    "ExecuteTime": {
     "end_time": "2023-08-04T07:54:27.449428Z",
     "start_time": "2023-08-04T07:54:27.439429Z"
    }
   },
   "outputs": [],
   "source": [
    "# даты начала и конца сезонов в определенные годы\n",
    "season_dates_khl_1 = {\n",
    "    '2008-09': (datetime(2008, 9, 2), datetime(2009, 4, 12)),\n",
    "    '2009-10': (datetime(2009, 9, 10), datetime(2010, 4, 22)),\n",
    "    '2010-11': (datetime(2010, 9, 8), datetime(2011, 4, 20)),\n",
    "    '2011-12': (datetime(2011, 9, 7), datetime(2012, 4, 29)),\n",
    "    '2012-13': (datetime(2012, 9, 4), datetime(2013, 4, 17)),\n",
    "    '2013-14': (datetime(2013, 9, 4), datetime(2014, 4, 30)),\n",
    "    '2014-15': (datetime(2014, 8, 25), datetime(2015, 4, 30)),\n",
    "    '2015-16': (datetime(2015, 8, 24), datetime(2016, 4, 19)),\n",
    "    '2016-17': (datetime(2016, 8, 22), datetime(2017, 4, 16)),\n",
    "    '2017-18': (datetime(2017, 8, 21), datetime(2018, 4, 19)),\n",
    "    '2018-19': (datetime(2018, 9, 1), datetime(2019, 4, 19)),\n",
    "    '2019-20': (datetime(2019, 9, 1), datetime(2020, 3, 12)),\n",
    "    '2020-21': (datetime(2020, 9, 2), datetime(2021, 5, 7)),\n",
    "    '2021-22': (datetime(2021, 9, 1), datetime(2022, 4, 30)),\n",
    "    '2022-23': (datetime(2022, 9, 1), datetime(2023, 4, 29))\n",
    "}"
   ]
  },
  {
   "cell_type": "code",
   "execution_count": null,
   "id": "242b6830",
   "metadata": {
    "ExecuteTime": {
     "end_time": "2023-08-04T07:54:27.495988Z",
     "start_time": "2023-08-04T07:54:27.462430Z"
    }
   },
   "outputs": [],
   "source": [
    "# на основании словаря с данными о начале и конце сезона добавил к таблице stats_KHL столбцы с началом и концом сезона\n",
    "stats_KHL['season_start'] = stats_KHL['season'].map(season_dates_khl_1).str[0]\n",
    "stats_KHL['season_end'] = stats_KHL['season'].map(season_dates_khl_1).str[1]"
   ]
  },
  {
   "cell_type": "code",
   "execution_count": null,
   "id": "18a6a552",
   "metadata": {
    "ExecuteTime": {
     "end_time": "2023-08-04T07:54:27.543997Z",
     "start_time": "2023-08-04T07:54:27.500911Z"
    }
   },
   "outputs": [],
   "source": [
    "# привел добавленные столбцы к типу datetime\n",
    "stats_KHL['season_start'] = pd.to_datetime(\n",
    "    stats_KHL['season_start'], format='%Y-%m-%d')\n",
    "stats_KHL['season_end'] = pd.to_datetime(\n",
    "    stats_KHL['season_end'], format='%Y-%m-%d')"
   ]
  },
  {
   "cell_type": "code",
   "execution_count": null,
   "id": "bb3a994f",
   "metadata": {
    "ExecuteTime": {
     "end_time": "2023-08-04T07:54:27.605842Z",
     "start_time": "2023-08-04T07:54:27.550116Z"
    }
   },
   "outputs": [],
   "source": [
    "# выделил id игрока из player_link\n",
    "stats_KHL['player_id'] = stats_KHL['player_link'].str.split(\n",
    "    '/', expand=True)[4].astype(int)"
   ]
  },
  {
   "cell_type": "code",
   "execution_count": null,
   "id": "b39ef854",
   "metadata": {
    "ExecuteTime": {
     "end_time": "2023-08-04T07:54:27.621755Z",
     "start_time": "2023-08-04T07:54:27.610683Z"
    }
   },
   "outputs": [],
   "source": [
    "# удалил из таблицы колонки player_link, season\n",
    "stats_KHL.drop(columns=['player_link'], inplace=True)"
   ]
  },
  {
   "cell_type": "code",
   "execution_count": null,
   "id": "e913438e",
   "metadata": {
    "ExecuteTime": {
     "end_time": "2023-08-04T07:54:27.637752Z",
     "start_time": "2023-08-04T07:54:27.627684Z"
    }
   },
   "outputs": [],
   "source": [
    "# переписал индекс\n",
    "stats_KHL = stats_KHL.reset_index(drop=True)"
   ]
  },
  {
   "cell_type": "code",
   "execution_count": null,
   "id": "dad57577",
   "metadata": {
    "ExecuteTime": {
     "end_time": "2023-08-04T07:54:27.685695Z",
     "start_time": "2023-08-04T07:54:27.641762Z"
    }
   },
   "outputs": [],
   "source": [
    "# в названиях команд выявлена доп информация, прописанная через разделитель \\n.\n",
    "# Удалил данную информацию так, чтобы осталось только названгие команды\n",
    "stats_KHL['team'] = stats_KHL['team'].str.split(\"\\n\", expand=True)[0]"
   ]
  },
  {
   "cell_type": "code",
   "execution_count": null,
   "id": "83885460",
   "metadata": {
    "ExecuteTime": {
     "end_time": "2023-08-04T07:54:27.717248Z",
     "start_time": "2023-08-04T07:54:27.689695Z"
    }
   },
   "outputs": [],
   "source": [
    "stats_KHL.head(5)"
   ]
  },
  {
   "cell_type": "code",
   "execution_count": null,
   "id": "d7178370",
   "metadata": {
    "ExecuteTime": {
     "end_time": "2023-08-04T07:54:27.764181Z",
     "start_time": "2023-08-04T07:54:27.723180Z"
    }
   },
   "outputs": [],
   "source": [
    "stats_KHL.info()\n",
    "stats_KHL.isna().sum()"
   ]
  },
  {
   "cell_type": "code",
   "execution_count": null,
   "id": "0e9d118d",
   "metadata": {
    "ExecuteTime": {
     "end_time": "2023-08-04T07:54:27.810184Z",
     "start_time": "2023-08-04T07:54:27.770170Z"
    }
   },
   "outputs": [],
   "source": [
    "# выявил строки с пропусками в seasin_start и season_end\n",
    "stats_KHL.query('season_start.isnull() & season_end.isnull()')"
   ]
  },
  {
   "cell_type": "markdown",
   "id": "12103b61",
   "metadata": {},
   "source": [
    "### Вывод по таблице stats\n",
    "   Для обработки таблицы stats предприняты следующие шаги:\n",
    "* Проведена фильтрация записей по player_id таблицы personal_data, а также по значению столбцы league таблицы stats.\n",
    "* После фильтпации по значению столбца league отмечена потеря 18 уникальных игроков, вероятно, в данном случае их статистики в лиге КХЛ нет.\n",
    "* Для дальнейшего анализа в отфильтрованной таблице оставлены колонки player_name, season, team, league, player_link.\n",
    "* Добавлены колонки с датой начала сезона - season_start и датой окончания сезона season_end. Добавленные колонки приведены к типу datetime\n",
    "* Из player_link выделен player_id, помещенный в соответствующую колонку.\n",
    "* В колонках season_start и season_end выявлены пропуски в количестве 493, обусловленные отсутствием дат для сезона 2023-24 годов. На дальнейший анализ данные пропуски не повлияют. Решено оставить их как есть.\n",
    "* Полученная таблица в итоге содержит 14944 строки.\n",
    "* также обращает на себя внимание то, что команды в данной таблице написаны без пробелов и при дальнейшем объединении необходимо использовать другие поля."
   ]
  },
  {
   "cell_type": "markdown",
   "id": "244b44e0",
   "metadata": {},
   "source": [
    "## players. "
   ]
  },
  {
   "cell_type": "code",
   "execution_count": null,
   "id": "36297e03",
   "metadata": {
    "ExecuteTime": {
     "end_time": "2023-08-04T07:54:27.825120Z",
     "start_time": "2023-08-04T07:54:27.814172Z"
    }
   },
   "outputs": [],
   "source": [
    "# определил количество строк в таблице players\n",
    "players.shape"
   ]
  },
  {
   "cell_type": "code",
   "execution_count": null,
   "id": "2e5bec3c",
   "metadata": {
    "ExecuteTime": {
     "end_time": "2023-08-04T07:54:27.856187Z",
     "start_time": "2023-08-04T07:54:27.829119Z"
    }
   },
   "outputs": [],
   "source": [
    "# при фильтрации таблицы players по player_link из personal_data количество строк не изменилось\n",
    "filtered_players = players[players['player_link'].isin(\n",
    "    personal_data['player_link'])]\n",
    "filtered_players.shape"
   ]
  },
  {
   "cell_type": "code",
   "execution_count": null,
   "id": "c527ca0a",
   "metadata": {
    "ExecuteTime": {
     "end_time": "2023-08-04T07:54:27.934492Z",
     "start_time": "2023-08-04T07:54:27.863120Z"
    }
   },
   "outputs": [],
   "source": [
    "# создал колонку с id игроков\n",
    "players['player_id'] = players['player_link'].str.split(\n",
    "    '/', expand=True)[4].astype(int)"
   ]
  },
  {
   "cell_type": "code",
   "execution_count": null,
   "id": "6e686b0b",
   "metadata": {
    "ExecuteTime": {
     "end_time": "2023-08-04T07:54:27.950492Z",
     "start_time": "2023-08-04T07:54:27.938492Z"
    }
   },
   "outputs": [],
   "source": [
    "# для дальнейшего анализа оставил в таблице только колонки team, season, player, player_id.\n",
    "players_KHL = players[['team', 'season', 'player', 'player_id']]"
   ]
  },
  {
   "cell_type": "code",
   "execution_count": null,
   "id": "15448707",
   "metadata": {
    "ExecuteTime": {
     "end_time": "2023-08-04T07:54:27.981491Z",
     "start_time": "2023-08-04T07:54:27.957492Z"
    }
   },
   "outputs": [],
   "source": [
    "# даты начала и конца сезонов в определенные годы\n",
    "season_dates_khl = {\n",
    "    '2008-2009': (datetime(2008, 9, 2), datetime(2009, 4, 12)),\n",
    "    '2009-2010': (datetime(2009, 9, 10), datetime(2010, 4, 22)),\n",
    "    '2010-2011': (datetime(2010, 9, 8), datetime(2011, 4, 20)),\n",
    "    '2011-2012': (datetime(2011, 9, 7), datetime(2012, 4, 29)),\n",
    "    '2012-2013': (datetime(2012, 9, 4), datetime(2013, 4, 17)),\n",
    "    '2013-2014': (datetime(2013, 9, 4), datetime(2014, 4, 30)),\n",
    "    '2014-2015': (datetime(2014, 8, 25), datetime(2015, 4, 30)),\n",
    "    '2015-2016': (datetime(2015, 8, 24), datetime(2016, 4, 19)),\n",
    "    '2016-2017': (datetime(2016, 8, 22), datetime(2017, 4, 16)),\n",
    "    '2017-2018': (datetime(2017, 8, 21), datetime(2018, 4, 19)),\n",
    "    '2018-2019': (datetime(2018, 9, 1), datetime(2019, 4, 19)),\n",
    "    '2019-2020': (datetime(2019, 9, 1), datetime(2020, 3, 12)),\n",
    "    '2020-2021': (datetime(2020, 9, 2), datetime(2021, 5, 7)),\n",
    "    '2021-2022': (datetime(2021, 9, 1), datetime(2022, 4, 30)),\n",
    "    '2022-2023': (datetime(2022, 9, 1), datetime(2023, 4, 29))\n",
    "}"
   ]
  },
  {
   "cell_type": "code",
   "execution_count": null,
   "id": "88dcd620",
   "metadata": {
    "ExecuteTime": {
     "end_time": "2023-08-04T07:54:28.028964Z",
     "start_time": "2023-08-04T07:54:27.987551Z"
    }
   },
   "outputs": [],
   "source": [
    "# на основании словаря с данными о начале и конце сезона добавил к таблице players_KHL столбцы с началом и концом сезона\n",
    "players_KHL['season_start'] = players_KHL['season'].map(\n",
    "    season_dates_khl).str[0]\n",
    "players_KHL['season_end'] = players_KHL['season'].map(season_dates_khl).str[1]"
   ]
  },
  {
   "cell_type": "code",
   "execution_count": null,
   "id": "1be0a3c7",
   "metadata": {
    "ExecuteTime": {
     "end_time": "2023-08-04T07:54:28.076975Z",
     "start_time": "2023-08-04T07:54:28.036896Z"
    }
   },
   "outputs": [],
   "source": [
    "# привел добавленные столбцы к типу datetime\n",
    "players_KHL['season_start'] = pd.to_datetime(\n",
    "    players_KHL['season_start'], format='%Y-%m-%d')\n",
    "players_KHL['season_end'] = pd.to_datetime(\n",
    "    players_KHL['season_end'], format='%Y-%m%-d')"
   ]
  },
  {
   "cell_type": "code",
   "execution_count": null,
   "id": "d247fbe5",
   "metadata": {
    "ExecuteTime": {
     "end_time": "2023-08-04T07:54:28.123945Z",
     "start_time": "2023-08-04T07:54:28.086897Z"
    }
   },
   "outputs": [],
   "source": [
    "# создал колонки с годом начала и конца игрового сезона\n",
    "players_KHL[['year_start', 'year_end']\n",
    "            ] = players['season'].str.split('-', expand=True)"
   ]
  },
  {
   "cell_type": "code",
   "execution_count": null,
   "id": "d913c354",
   "metadata": {
    "ExecuteTime": {
     "end_time": "2023-08-04T07:54:28.139059Z",
     "start_time": "2023-08-04T07:54:28.129035Z"
    }
   },
   "outputs": [],
   "source": [
    "players_KHL['player_id'].nunique()"
   ]
  },
  {
   "cell_type": "code",
   "execution_count": null,
   "id": "41a1835d",
   "metadata": {
    "ExecuteTime": {
     "end_time": "2023-08-04T07:54:28.171063Z",
     "start_time": "2023-08-04T07:54:28.142998Z"
    }
   },
   "outputs": [],
   "source": [
    "# check\n",
    "players_KHL"
   ]
  },
  {
   "cell_type": "code",
   "execution_count": null,
   "id": "3babd46e",
   "metadata": {
    "ExecuteTime": {
     "end_time": "2023-08-04T07:54:28.282060Z",
     "start_time": "2023-08-04T07:54:28.174995Z"
    }
   },
   "outputs": [],
   "source": [
    "# создал словарь с id и player_name\n",
    "id_dict = players_KHL[['player_id', 'player']].to_dict('records')\n",
    "players_KHL_dict = {}\n",
    "for i in id_dict:\n",
    "    for l, m in i.items():\n",
    "        players_KHL_dict.update({i['player_id']: i['player']})"
   ]
  },
  {
   "cell_type": "code",
   "execution_count": null,
   "id": "d467935c",
   "metadata": {
    "ExecuteTime": {
     "end_time": "2023-08-04T07:54:28.947074Z",
     "start_time": "2023-08-04T07:54:28.285998Z"
    }
   },
   "outputs": [],
   "source": [
    "# выделил игроков с максимальным количеством переходов за сезон и команды, в которые эти игроки переходили\n",
    "max_teams = players_KHL.groupby(['player_id', 'player', 'season', 'year_start']).agg(\n",
    "    teams_count=('team', 'count'),\n",
    "    teams_names=('team', 'unique')\n",
    ").sort_values(by='teams_count', ascending=False).reset_index()\n",
    "\n",
    "max_teams"
   ]
  },
  {
   "cell_type": "markdown",
   "id": "62978dc6",
   "metadata": {},
   "source": [
    "Максимальное колчество переходов совершил Иван Яценко в сезон 2016-2017 года он сменил 4 команды."
   ]
  },
  {
   "cell_type": "code",
   "execution_count": null,
   "id": "5973564c",
   "metadata": {
    "ExecuteTime": {
     "end_time": "2023-08-04T07:54:28.963154Z",
     "start_time": "2023-08-04T07:54:28.950000Z"
    }
   },
   "outputs": [],
   "source": [
    "# создал список игроков из КХЛ\n",
    "players_KHL_list = players_KHL['player_id'].unique().tolist()\n",
    "players_KHL['player_id'].nunique()"
   ]
  },
  {
   "cell_type": "code",
   "execution_count": null,
   "id": "7eb5f416",
   "metadata": {
    "ExecuteTime": {
     "end_time": "2023-08-04T07:54:28.978491Z",
     "start_time": "2023-08-04T07:54:28.966086Z"
    }
   },
   "outputs": [],
   "source": [
    "# создал список команд из КХЛ\n",
    "KHL_team_list = players_KHL['team'].unique().tolist()\n",
    "players_KHL['team'].nunique()"
   ]
  },
  {
   "cell_type": "markdown",
   "id": "32878fd9",
   "metadata": {},
   "source": [
    "### Вывод по таблице players\n",
    "   Для обрарботки таблицы players предприняты следующие шаги:\n",
    "* Проведена фильтрация таблицы players по player_link из personal_data.\n",
    "* Создана колонка с уникальным player_id.\n",
    "* Для дальнейшего анализа в исследуемой таблицы оставлены колонки team, season, player, player_id.\n",
    "* К таблице добавлены столбцы season_start и season_end со информацией о дате начала и конца сезона. Данныйе в столбцах приведены к типу datetime.\n",
    "* Также к таблице добавлены столбцы с годом начала и конца сезона.\n",
    "* Создал два списка: с игроками КХЛ лиги и с командами из КХЛ лиги. А также словарь с котором хранятся id и имя игрока.\n",
    "* Выделил игроков с максимальным количеством переходов за сезон. Максимальное количество команд сменил игрок Иван Яценко в сезоне 2016-2017 года"
   ]
  },
  {
   "cell_type": "markdown",
   "id": "90509071",
   "metadata": {},
   "source": [
    "## personal_data"
   ]
  },
  {
   "cell_type": "code",
   "execution_count": null,
   "id": "cf36da1a",
   "metadata": {
    "ExecuteTime": {
     "end_time": "2023-08-04T07:54:28.993601Z",
     "start_time": "2023-08-04T07:54:28.982465Z"
    }
   },
   "outputs": [],
   "source": [
    "# для дальнейшего анализа оставил столбцы player_name, awards, player_link\n",
    "personal_data_KHL = personal_data[['player_name', 'awards', 'player_link']]"
   ]
  },
  {
   "cell_type": "code",
   "execution_count": null,
   "id": "f51420c7",
   "metadata": {
    "ExecuteTime": {
     "end_time": "2023-08-04T07:54:29.024145Z",
     "start_time": "2023-08-04T07:54:28.997480Z"
    }
   },
   "outputs": [],
   "source": [
    "# выделил player_id из players_link\n",
    "personal_data_KHL['player_id'] = personal_data_KHL['player_link'].str.split(\n",
    "    '/', expand=True)[4].astype(int)"
   ]
  },
  {
   "cell_type": "code",
   "execution_count": null,
   "id": "d7f6b604",
   "metadata": {
    "ExecuteTime": {
     "end_time": "2023-08-04T07:54:29.039147Z",
     "start_time": "2023-08-04T07:54:29.028146Z"
    }
   },
   "outputs": [],
   "source": [
    "# удалил колонку player_link\n",
    "personal_data_KHL.drop(columns=['player_link'], inplace=True)"
   ]
  },
  {
   "cell_type": "code",
   "execution_count": null,
   "id": "fbfe6d6e",
   "metadata": {
    "ExecuteTime": {
     "end_time": "2023-08-04T07:54:29.070147Z",
     "start_time": "2023-08-04T07:54:29.045147Z"
    }
   },
   "outputs": [],
   "source": [
    "# check\n",
    "personal_data_KHL.head(10)"
   ]
  },
  {
   "cell_type": "markdown",
   "id": "474bc3d1",
   "metadata": {},
   "source": [
    "### Вывод по таблице personal_data\n",
    "   Для обрарботки таблицы players предприняты следующие шаги:\n",
    "* Выделено id игрока из столбца player_link.\n",
    "* Удален столбец player_link.\n",
    "* В полученной таблице количество строк не изменилось и составило 3599."
   ]
  },
  {
   "cell_type": "markdown",
   "id": "6e9bc71e",
   "metadata": {},
   "source": [
    "## transfers"
   ]
  },
  {
   "cell_type": "code",
   "execution_count": null,
   "id": "8b445864",
   "metadata": {
    "ExecuteTime": {
     "end_time": "2023-08-04T07:54:29.401151Z",
     "start_time": "2023-08-04T07:54:29.073145Z"
    }
   },
   "outputs": [],
   "source": [
    "transfers.info(); transfers.isna().sum()"
   ]
  },
  {
   "cell_type": "code",
   "execution_count": null,
   "id": "57a30b2d",
   "metadata": {
    "ExecuteTime": {
     "end_time": "2023-08-04T07:54:31.208359Z",
     "start_time": "2023-08-04T07:54:29.404074Z"
    }
   },
   "outputs": [],
   "source": [
    "# выделил столбцы player_id, from_team_id, to_team_id в таблице transfers\n",
    "transfers['player_id'] = transfers['player_link'].str.split(\n",
    "    '/', expand=True)[4].astype(int)\n",
    "transfers['from_team_id'] = transfers['from_team_link'].str.split(\n",
    "    '/', expand=True)[4]\n",
    "transfers['to_team_id'] = transfers['to_team_link'].str.split(\n",
    "    '/', expand=True)[4]"
   ]
  },
  {
   "cell_type": "code",
   "execution_count": null,
   "id": "fb4d591b",
   "metadata": {
    "ExecuteTime": {
     "end_time": "2023-08-04T07:54:31.287896Z",
     "start_time": "2023-08-04T07:54:31.211371Z"
    },
    "scrolled": false
   },
   "outputs": [],
   "source": [
    "# для дальнейшего анализа в таблице transfers оставил столбцы\n",
    "# date, player_id, player, from_team, from_team_id, to_team, to_team_id\n",
    "transfers_1 = transfers[['date', 'player_id', 'player',\n",
    "                         'from_team', 'from_team_id', 'to_team', 'to_team_id']]"
   ]
  },
  {
   "cell_type": "code",
   "execution_count": null,
   "id": "70cadeff",
   "metadata": {
    "ExecuteTime": {
     "end_time": "2023-08-04T07:54:31.319891Z",
     "start_time": "2023-08-04T07:54:31.294799Z"
    }
   },
   "outputs": [],
   "source": [
    "# check\n",
    "transfers_1"
   ]
  },
  {
   "cell_type": "code",
   "execution_count": null,
   "id": "6b1ede3e",
   "metadata": {
    "ExecuteTime": {
     "end_time": "2023-08-04T07:54:31.680391Z",
     "start_time": "2023-08-04T07:54:31.326520Z"
    }
   },
   "outputs": [],
   "source": [
    "transfers_1.info()\n",
    "transfers_1.isna().sum()"
   ]
  },
  {
   "cell_type": "markdown",
   "id": "93818a11",
   "metadata": {},
   "source": [
    "На данном этапе выявлены пропуски в столбцах from_team_id и to_team_id. Они обусловлены отсутствием значения в столбце команды из которой и в которую переходил игрок"
   ]
  },
  {
   "cell_type": "code",
   "execution_count": null,
   "id": "f8a9cefb",
   "metadata": {
    "ExecuteTime": {
     "end_time": "2023-08-04T07:54:31.741634Z",
     "start_time": "2023-08-04T07:54:31.684370Z"
    }
   },
   "outputs": [],
   "source": [
    "# привел столбец date к типу datetime\n",
    "transfers_1['date'] = pd.to_datetime(transfers_1['date'], format='%d/%m/%Y')"
   ]
  },
  {
   "cell_type": "code",
   "execution_count": null,
   "id": "9d0b1a2c",
   "metadata": {
    "ExecuteTime": {
     "end_time": "2023-08-04T07:56:55.848990Z",
     "start_time": "2023-08-04T07:54:31.745540Z"
    }
   },
   "outputs": [],
   "source": [
    "def season(x):\n",
    "    dates = [\n",
    "        pd.to_datetime('2009-04-12'),\n",
    "        pd.to_datetime('2010-04-22'),\n",
    "        pd.to_datetime('2011-04-20'),\n",
    "        pd.to_datetime('2012-04-29'),\n",
    "        pd.to_datetime('2013-06-24'),\n",
    "        pd.to_datetime('2014-04-30'),\n",
    "        pd.to_datetime('2015-04-30'),\n",
    "        pd.to_datetime('2016-04-19'),\n",
    "        pd.to_datetime('2017-04-16'),\n",
    "        pd.to_datetime('2018-04-19'),\n",
    "        pd.to_datetime('2019-04-19'),\n",
    "        pd.to_datetime('2020-03-12'),\n",
    "        pd.to_datetime('2021-05-07'),\n",
    "        pd.to_datetime('2022-04-30'),\n",
    "        pd.to_datetime('2023-04-29')\n",
    "    ]\n",
    "\n",
    "    for i in range(len(dates)):\n",
    "        if x <= dates[i]:\n",
    "            return f'{dates[i].year - 1}-{dates[i].year}'\n",
    "\n",
    "    return '2023-2024'\n",
    "\n",
    "\n",
    "transfers_1['season'] = transfers_1['date'].apply(season)"
   ]
  },
  {
   "cell_type": "code",
   "execution_count": null,
   "id": "1eafde89",
   "metadata": {
    "ExecuteTime": {
     "end_time": "2023-08-04T07:56:55.879152Z",
     "start_time": "2023-08-04T07:56:55.852990Z"
    }
   },
   "outputs": [],
   "source": [
    "transfers_1['team'] = transfers_1['to_team']\n",
    "transfers_1"
   ]
  },
  {
   "cell_type": "code",
   "execution_count": null,
   "id": "4d39b06b",
   "metadata": {
    "ExecuteTime": {
     "end_time": "2023-08-04T07:56:55.970883Z",
     "start_time": "2023-08-04T07:56:55.884982Z"
    }
   },
   "outputs": [],
   "source": [
    "# выбрал из трансферов тех игроков и команды, которые учасвовали в КХЛ\n",
    "transfers_KHL = transfers_1.query(\n",
    "    'from_team in @KHL_team_list and to_team in @KHL_team_list').copy()"
   ]
  },
  {
   "cell_type": "code",
   "execution_count": null,
   "id": "b7402d65",
   "metadata": {
    "ExecuteTime": {
     "end_time": "2023-08-04T07:56:56.002313Z",
     "start_time": "2023-08-04T07:56:55.974184Z"
    }
   },
   "outputs": [],
   "source": [
    "transfers_KHL.info()"
   ]
  },
  {
   "cell_type": "markdown",
   "id": "9649bdb4",
   "metadata": {},
   "source": [
    "После удаления трансферов не связанных с лигой КХЛ в таблице осталось 4267 строк"
   ]
  },
  {
   "cell_type": "code",
   "execution_count": null,
   "id": "49917bbe",
   "metadata": {
    "ExecuteTime": {
     "end_time": "2023-08-04T07:56:56.438238Z",
     "start_time": "2023-08-04T07:56:56.007313Z"
    }
   },
   "outputs": [],
   "source": [
    "# определил количество трансферов для каждого игрока за сезон\n",
    "transfers_from_to = transfers_KHL.groupby(['player_id', 'player', 'season'], as_index=False).agg({\n",
    "    'date': 'count', 'from_team': 'unique', 'to_team': 'unique'})\n",
    "transfers_from_to.sort_values(by='date', ascending=False).head(10)"
   ]
  },
  {
   "cell_type": "markdown",
   "id": "596fd293",
   "metadata": {},
   "source": [
    "### Вывод  по таблице transfers\n",
    "   Для обрарботки таблицы transfers предприняты следующие шаги:\n",
    "* Выделены столбцы player_id, from_team_id, to_team_id со значениями соответствующих игроков и команд. Пропуски в столбцах from_team_id и to_team_id обусловлены отсутствием значения в столбце команды из которой и в которую переходил игрок. \n",
    "* Для дальнейшего анализа в таблице оставлены столбцы date, player_id , player, from_team, from_team_id, to_team, to_team_id\n",
    "* Столбец date приведен к типу datetime\n",
    "* Также в таблицу добавлен год трансфера по условию: если дата трансфера с января по май(не включительно), то год трансфера предыдущий, иначе год соответствует году трансфера\n",
    "* Все трансферы отфильтрованы по @players_KHL_list который содержит имена игроков лиги КХЛ и @KHL_team_list, который содержит команды лиги КХЛ. После фильтрации таблица составила 4267 строк.\n",
    "* Определил количество трансферов для каждого игрока за сезон. Рекордным числом переходов обладают Э.Левандовский - 4 трансфера в сезоне 2012-2013 года. Ю.Сершиенко - 4 трансфера в сезоне 2016-2017 года. К.Глазачев - 4 трансфера в сезоне 2012-2013 года. И. Касутин - 4 трансфера в сезоне 2012-2013 года. А.Панков - 4 трансфера в сезоне 2016-2017 года."
   ]
  },
  {
   "cell_type": "markdown",
   "id": "e3baf9ae",
   "metadata": {},
   "source": [
    "## Объединение таблиц transfers и players"
   ]
  },
  {
   "cell_type": "code",
   "execution_count": null,
   "id": "bd86adfd",
   "metadata": {
    "ExecuteTime": {
     "end_time": "2023-08-04T07:56:56.501539Z",
     "start_time": "2023-08-04T07:56:56.446028Z"
    }
   },
   "outputs": [],
   "source": [
    "# создал словарь команд в котором ключ- название команды, значение - id команды\n",
    "from_dict = transfers_KHL[['from_team_id', 'from_team']].to_dict('records')\n",
    "from_team_dict = {}\n",
    "for i in from_dict:\n",
    "    for k, v in i.items():\n",
    "        from_team_dict.update({i['from_team']: i['from_team_id']})\n",
    "\n",
    "to_dict = transfers_KHL[['to_team_id', 'to_team']].to_dict('records')\n",
    "to_team_dict = {}\n",
    "for i in to_dict:\n",
    "    for m, n in i.items():\n",
    "        to_team_dict.update({i['to_team']: i['to_team_id']})\n",
    "\n",
    "from_team_dict.update(to_team_dict)\n",
    "teams_dict = from_team_dict\n",
    "len(teams_dict)"
   ]
  },
  {
   "cell_type": "code",
   "execution_count": null,
   "id": "5f5e5141",
   "metadata": {
    "ExecuteTime": {
     "end_time": "2023-08-04T07:56:56.580870Z",
     "start_time": "2023-08-04T07:56:56.507078Z"
    }
   },
   "outputs": [],
   "source": [
    "# создал словарь игроков в котором ключ - id игрока, а значение - имя игрока\n",
    "id_dict = players_KHL[['player_id', 'player']].to_dict('records')\n",
    "players_dict = {}\n",
    "for i in id_dict:\n",
    "    for k, l in i.items():\n",
    "        players_dict.update({i['player_id']: i['player']})\n",
    "len(players_dict)"
   ]
  },
  {
   "cell_type": "code",
   "execution_count": null,
   "id": "f1334cd5",
   "metadata": {
    "ExecuteTime": {
     "end_time": "2023-08-04T07:56:56.611474Z",
     "start_time": "2023-08-04T07:56:56.584884Z"
    }
   },
   "outputs": [],
   "source": [
    "# посмотрел записи, в которых игрок осуществял переход в одну и ту же команду\n",
    "transfers_KHL.query('from_team == to_team')"
   ]
  },
  {
   "cell_type": "code",
   "execution_count": null,
   "id": "93428f7e",
   "metadata": {
    "ExecuteTime": {
     "end_time": "2023-08-04T07:56:56.642458Z",
     "start_time": "2023-08-04T07:56:56.617873Z"
    }
   },
   "outputs": [],
   "source": [
    "# удалил данные записи\n",
    "transfers_KHL.drop(transfers_KHL.query(\n",
    "    'from_team == to_team').index, inplace=True)"
   ]
  },
  {
   "cell_type": "code",
   "execution_count": null,
   "id": "2b985a18",
   "metadata": {
    "ExecuteTime": {
     "end_time": "2023-08-04T07:56:56.658182Z",
     "start_time": "2023-08-04T07:56:56.647741Z"
    }
   },
   "outputs": [],
   "source": [
    "# Check\n",
    "players_KHL['player_id'].nunique()"
   ]
  },
  {
   "cell_type": "code",
   "execution_count": null,
   "id": "2bec2c5d",
   "metadata": {
    "ExecuteTime": {
     "end_time": "2023-08-04T07:56:56.751611Z",
     "start_time": "2023-08-04T07:56:56.662437Z"
    }
   },
   "outputs": [],
   "source": [
    "# создал сводную таблицу с количеством команд и переходов игрока за сезон\n",
    "players_teams = max_teams.merge(transfers_from_to, how='left', left_on=[\n",
    "                                'player_id', 'season'], right_on=['player_id', 'season'])\n",
    "players_teams\n",
    "players_teams.drop(columns='year_start').rename(\n",
    "    columns={'date': 'transfers'}).fillna(0).head(10)"
   ]
  },
  {
   "cell_type": "code",
   "execution_count": null,
   "id": "fcebe308",
   "metadata": {
    "ExecuteTime": {
     "end_time": "2023-08-04T07:56:56.797491Z",
     "start_time": "2023-08-04T07:56:56.753491Z"
    }
   },
   "outputs": [],
   "source": [
    "# объеденил таблицы players_KHL и transfers_KHL\n",
    "players_transfers = pd.merge(players_KHL, transfers_KHL, on=[\n",
    "                             'player_id', 'season', 'team'], how='left').reset_index(drop=True)"
   ]
  },
  {
   "cell_type": "code",
   "execution_count": null,
   "id": "8b658db0",
   "metadata": {
    "ExecuteTime": {
     "end_time": "2023-08-04T07:56:56.876725Z",
     "start_time": "2023-08-04T07:56:56.865339Z"
    }
   },
   "outputs": [],
   "source": [
    "# Переименовал колонки полученной таблицы players_transfers\n",
    "players_transfers = players_transfers.rename(\n",
    "    columns={'player_x': 'player', 'date': 'transfer_date'})"
   ]
  },
  {
   "cell_type": "code",
   "execution_count": null,
   "id": "155f3774",
   "metadata": {
    "ExecuteTime": {
     "end_time": "2023-08-04T06:52:41.631567Z",
     "start_time": "2023-08-04T06:52:41.607232Z"
    }
   },
   "outputs": [],
   "source": [
    "# Удалил колонку player_y\n",
    "players_transfers = players_transfers.drop(columns=['player_y'])"
   ]
  },
  {
   "cell_type": "code",
   "execution_count": null,
   "id": "6ed750c6",
   "metadata": {
    "ExecuteTime": {
     "end_time": "2023-08-04T06:52:41.678663Z",
     "start_time": "2023-08-04T06:52:41.653096Z"
    }
   },
   "outputs": [],
   "source": [
    "# создал колонки start_date и end_date\n",
    "players_transfers['start_date'] = players_transfers['season_start'].mask(\n",
    "    players_transfers['team'] == players_transfers['to_team'], players_transfers['transfer_date'])\n",
    "players_transfers['end_date'] = players_transfers['season_end'].mask(\n",
    "    players_transfers['team'] == players_transfers['from_team'], players_transfers['transfer_date'])"
   ]
  },
  {
   "cell_type": "markdown",
   "id": "a572ab9f",
   "metadata": {},
   "source": [
    "Условия для подставлений значений в колонки следующие: \n",
    "* для start_date если team = to_team, то дата начала игры в команде = дате трансфера. Если нет, то дате начала сезона. \n",
    "* для end_date если team = from_team, то дата окончания игры за команду = дате трансфера, если нет, то дата окончания игры за команду = дате окончания сезона."
   ]
  },
  {
   "cell_type": "code",
   "execution_count": null,
   "id": "efcb1f1c",
   "metadata": {
    "ExecuteTime": {
     "end_time": "2023-08-04T06:52:41.694065Z",
     "start_time": "2023-08-04T06:52:41.684451Z"
    }
   },
   "outputs": [],
   "source": [
    "# привел колонки start_date и end_date к типу datetime.\n",
    "players_transfers[['start_date', 'end_date']] = players_transfers[[\n",
    "    'start_date', 'end_date']].astype('datetime64')"
   ]
  },
  {
   "cell_type": "code",
   "execution_count": null,
   "id": "a4ee421a",
   "metadata": {
    "ExecuteTime": {
     "end_time": "2023-08-04T07:44:54.998111Z",
     "start_time": "2023-08-04T07:44:54.963349Z"
    }
   },
   "outputs": [],
   "source": [
    "# создал колонку с корректной датой окончания участия игрока в команде\n",
    "players_transfers['day_left'] = players_transfers.sort_values(\n",
    "    by=['player_id', 'transfer_date']).groupby(['player_id', 'season_end', 'team'])['transfer_date'].shift(-1)\n",
    "# выборочно заменил значение end_date\n",
    "players_transfers['end_date'] = players_transfers['end_date'].mask(\n",
    "    players_transfers['day_left'] == players_transfers['day_left'], players_transfers['day_left'])"
   ]
  },
  {
   "cell_type": "code",
   "execution_count": null,
   "id": "ce91d13c",
   "metadata": {
    "ExecuteTime": {
     "end_time": "2023-08-04T07:52:21.846001Z",
     "start_time": "2023-08-04T07:52:21.797911Z"
    }
   },
   "outputs": [],
   "source": [
    "p['d'] = players_transfers.sort_values(\n",
    "    by=['player_id', 'transfer_date']).groupby(['player_id', 'season_end', 'team'])['transfer_date'].shift(-1)\n",
    "\n",
    "p.info()"
   ]
  },
  {
   "cell_type": "code",
   "execution_count": null,
   "id": "485a5fe2",
   "metadata": {
    "ExecuteTime": {
     "end_time": "2023-08-04T07:44:59.169546Z",
     "start_time": "2023-08-04T07:44:57.899938Z"
    },
    "scrolled": false
   },
   "outputs": [],
   "source": [
    "# создал колонку с количеством переходов игрока в один сезон\n",
    "players_transfers['count_transfers'] = players_transfers.groupby(\n",
    "    ['player_id', 'season'])['player'].transform(lambda x: x.count())"
   ]
  },
  {
   "cell_type": "code",
   "execution_count": null,
   "id": "fe4e7cba",
   "metadata": {
    "ExecuteTime": {
     "end_time": "2023-08-04T07:45:01.250213Z",
     "start_time": "2023-08-04T07:45:01.220264Z"
    }
   },
   "outputs": [],
   "source": [
    "# оценка результатов на примере игрока Игоря Радулова\n",
    "players_transfers.loc[players_transfers['player'].values ==\n",
    "                      'Igor Radulov'].sort_values(by='start_date')"
   ]
  },
  {
   "cell_type": "markdown",
   "id": "9cd9fd7e",
   "metadata": {},
   "source": [
    "История смены команд игроком Игорем Радуловым (информация с сайта КХЛ)\n",
    "* 08/09 | Витязь, Салават Юлаев \n",
    "* 09/10 | Металлург\t\n",
    "* 10/11 | Витязь, Северсталь\t\n",
    "* 11/12 | Салават Юлаев\t\n",
    "* 12/13 | ЦСКА \t\n",
    "* 13/14 | Атлант\t\n",
    "* 14/15 | Атлант, ХК Сочи\n",
    "* 15/16 | Спартак \n",
    "* 16/17 | Северсталь, Югра "
   ]
  },
  {
   "cell_type": "code",
   "execution_count": null,
   "id": "3b0bda0c",
   "metadata": {
    "ExecuteTime": {
     "end_time": "2023-08-04T06:52:43.788998Z",
     "start_time": "2023-08-04T06:52:43.748034Z"
    }
   },
   "outputs": [],
   "source": [
    "# оценка результатов на примере игрока Николая Лемтюгова\n",
    "players_transfers.loc[players_transfers['player'].values ==\n",
    "                      'Nikolai Lemtyugov'].sort_values(by='start_date')"
   ]
  },
  {
   "cell_type": "markdown",
   "id": "790b6c19",
   "metadata": {},
   "source": [
    "История смены команд Николаем Лемтюговым\n",
    "* 08/09 |Северсталь (Череповец)\n",
    "* 09/10 | Ак Барс (Казань) Северсталь (Череповец)\n",
    "* 10/11 | Ак Барс (Казань)\n",
    "* 11/12 | Металлург (Магнитогорск) Ак Барс (Казань) Нефтехимик (Нижнекамск)\t\n",
    "* 12/13 | Трактор (Челябинск) Атлант (Московская область)\t\n",
    "* 13/14 | Спартак (Москва) Сибирь (Новосибирская область)\t\n",
    "* 14/15 | Авангард (Омск) Югра (Ханты-Мансийск)\n",
    "* 15/16 | Авангард (Омск)\n",
    "* 16/17 | Авангард (Омск)\n",
    "* 17/18 | Авангард (Омск)"
   ]
  },
  {
   "cell_type": "code",
   "execution_count": null,
   "id": "9be26b92",
   "metadata": {
    "ExecuteTime": {
     "end_time": "2023-08-04T06:52:43.840864Z",
     "start_time": "2023-08-04T06:52:43.794168Z"
    }
   },
   "outputs": [],
   "source": [
    "# сгруппировал полученную таблицу по игрокам, вывел колическво уникальных команд в которых играл игрок\n",
    "players_transfers.groupby(by=['player_id', 'player']).agg(num_teams=(\n",
    "    'team', 'nunique')).sort_values(by='num_teams', ascending=False)[:15]"
   ]
  },
  {
   "cell_type": "markdown",
   "id": "56be9c86",
   "metadata": {},
   "source": [
    "Максимальное количество уникальных команд, в которых участвовал игрок - 11. Такое количество команд сменили Г.Клименко, А.Рязанцев, Г.Столяров. Д.Казионов. Лемтюгов сменил 10 команд"
   ]
  },
  {
   "cell_type": "code",
   "execution_count": null,
   "id": "ca1856ca",
   "metadata": {
    "ExecuteTime": {
     "end_time": "2023-08-04T06:52:43.882132Z",
     "start_time": "2023-08-04T06:52:43.846251Z"
    }
   },
   "outputs": [],
   "source": [
    "# также посмотрел не уникальные команды, а количество всех переходов из команды в команду\n",
    "players_transfers.groupby(by=['player_id', 'player']).agg(num_teams=('team','count')).sort_values(by='num_teams', ascending = False)[:20]"
   ]
  },
  {
   "cell_type": "markdown",
   "id": "340d5515",
   "metadata": {},
   "source": [
    "Максимальное значение переходов - 19, столько переходов сделал Е.Лапенков. Также большим количеством переходов (18) обладает Е.Миловзоров. Топ-20 игроков по количеству переходов завершается на 16-ти переходах. \n",
    "\n",
    "Н.Лемтюгов в топ-20 не попал, хотя сменил довольно большое количество команд. Это связано с тем, что он переходил в те клубы, в которых уже играл ранее."
   ]
  },
  {
   "cell_type": "markdown",
   "id": "03e5f435",
   "metadata": {},
   "source": [
    "### Вывод  \n",
    "   Проделанные шаги:\n",
    "* Создал два словаря: словарь команд в котором ключ- название команды, значение - id команды; словарь игроков в котором ключ - id игрока, а значение - имя игрока. Всего команд в словаре 40, различных id игроков 3599.\n",
    "* Удалил трансферы, в которых игрок осуществлял переход из одной в ту же команду.\n",
    "* Создал сводную таблицу с количеством команд и переходов игрока за сезон\n",
    "* Объединил таблицы players_KHL и transfers_KHL. Объединенная таблица составила 14336 записей.\n",
    "* Создал в объединенной таблице колонки start_date и end_date. Дата начала и окончания игры в клубе.\n",
    "* Создал колонку с количеством переходов игрока в один сезон.\n",
    "* Проверил корректность объединения на игроках Игоре Радулова И Николае Лемтюгове в соответствии с количеством трансферов на сайте КХЛ. Данные объеденены корректно.\n",
    "* Оценил максимальное количество уникальных команд, в которых участвовал игрок - 11. Такое количество команд сменили Г.Клименко, А.Рязанцев, Г.Столяров. Д.Казионов.        Н.Лемтюгов сменил 10 команд\n",
    "* Оценил максимальное значение переходов - 19, столько переходов сделал Е.Лапенков. Также большим количеством переходов (18) обладает Е.Миловзоров. Топ-20 игроков по количеству переходов завершается на 16-ти переходах. Н.Лемтюгов в топ-20 не попал, хотя сменил довольно большое количество команд. Это связано с тем, что он переходил в те клубы, в которых уже играл ранее."
   ]
  },
  {
   "cell_type": "markdown",
   "id": "672c3062",
   "metadata": {},
   "source": [
    "## Визуализация: Sankey Chart, Сhord диаграмма."
   ]
  },
  {
   "cell_type": "markdown",
   "id": "07085c78",
   "metadata": {},
   "source": [
    "### Sankey Chart: визуализация переходов игроков между командами"
   ]
  },
  {
   "cell_type": "code",
   "execution_count": null,
   "id": "701225dc",
   "metadata": {
    "ExecuteTime": {
     "end_time": "2023-08-04T06:52:43.898125Z",
     "start_time": "2023-08-04T06:52:43.885108Z"
    }
   },
   "outputs": [],
   "source": [
    "# функция генерации индексов source\n",
    "def get_source_index(df, source='from_team'):\n",
    "    res_dict = {}\n",
    "    count = 0\n",
    "    for no, step in enumerate(df['step'].unique().tolist()):\n",
    "        res_dict[no+1] = {}\n",
    "        res_dict[no+1]['sources'] = df[df['step']\n",
    "                                       == step][source].unique().tolist()\n",
    "        res_dict[no+1]['players'] = df[df['step']\n",
    "                                       == step]['player'].unique().tolist()\n",
    "        res_dict[no+1]['sources_index'] = []\n",
    "        for i in range(len(res_dict[no+1]['sources'])):\n",
    "            res_dict[no+1]['sources_index'].append(count)\n",
    "            count += 1\n",
    "\n",
    "    for key in res_dict:\n",
    "        res_dict[key]['sources_dict'] = {}\n",
    "        for name, no in zip(res_dict[key]['sources'], res_dict[key]['sources_index']):\n",
    "            res_dict[key]['sources_dict'][name] = no\n",
    "    return res_dict"
   ]
  },
  {
   "cell_type": "code",
   "execution_count": null,
   "id": "0b09c22f",
   "metadata": {
    "ExecuteTime": {
     "end_time": "2023-08-04T06:52:43.913370Z",
     "start_time": "2023-08-04T06:52:43.900974Z"
    }
   },
   "outputs": [],
   "source": [
    "# случайная генерация цветов rgba\n",
    "def generate_random_color():\n",
    "    r, g, b = np.random.randint(255, size=3)\n",
    "    return f'rgba({r}, {g}, {b}, 1)'"
   ]
  },
  {
   "cell_type": "code",
   "execution_count": null,
   "id": "4aafe0b4",
   "metadata": {
    "ExecuteTime": {
     "end_time": "2023-08-04T06:52:43.929404Z",
     "start_time": "2023-08-04T06:52:43.917687Z"
    }
   },
   "outputs": [],
   "source": [
    "# генерация цветов rgba\n",
    "def colors_for_sources(mode, df, source='from_team'):\n",
    "    colors_dict = {}\n",
    "\n",
    "    if mode == 'random':\n",
    "        for label in df[source].unique():\n",
    "            r, g, b = np.random.randint(255, size=3)\n",
    "            colors_dict[label] = f'rgba({r}, {g}, {b}, 1)'\n",
    "\n",
    "    elif mode == 'custom':\n",
    "        colors = requests.get(\n",
    "            'https://raw.githubusercontent.com/rusantsovsv/senkey_tutorial/main/json/colors_senkey.json').json()\n",
    "        for no, label in enumerate(df[source].unique()):\n",
    "            colors_dict[label] = colors['custom_colors'][no]\n",
    "\n",
    "    return colors_dict"
   ]
  },
  {
   "cell_type": "code",
   "execution_count": null,
   "id": "e3c372a1",
   "metadata": {
    "ExecuteTime": {
     "end_time": "2023-08-04T06:52:43.945225Z",
     "start_time": "2023-08-04T06:52:43.934263Z"
    }
   },
   "outputs": [],
   "source": [
    "# расчет уникальных id в процентах\n",
    "def percent_users(sources, targets, values):\n",
    "    zip_lists = list(zip(sources, targets, values))\n",
    "\n",
    "    new_list = []\n",
    "\n",
    "    unique_dict = {}\n",
    "\n",
    "    for source, target, value in zip_lists:\n",
    "        if source not in unique_dict:\n",
    "            unique_dict[source] = 0\n",
    "            for sr, tg, vl in zip_lists:\n",
    "                if sr == source:\n",
    "                    unique_dict[source] += vl\n",
    "\n",
    "    for source, target, value in zip_lists:\n",
    "        new_list.append(round(100 * value / unique_dict[source], 1))\n",
    "\n",
    "    return new_list"
   ]
  },
  {
   "cell_type": "code",
   "execution_count": null,
   "id": "d0b1c725",
   "metadata": {
    "ExecuteTime": {
     "end_time": "2023-08-04T06:52:43.960442Z",
     "start_time": "2023-08-04T06:52:43.948912Z"
    }
   },
   "outputs": [],
   "source": [
    "# создаю переменные списков, необходимые для отрисовки диаграммы и возвращаю их в виде словаря\n",
    "def lists_for_plot(df, source_indexes, colors, st='step', source='from_team', target='to_team', frac=0):\n",
    "\n",
    "    sources = []\n",
    "    targets = []\n",
    "    values = []\n",
    "    labels = []\n",
    "    link_color = []\n",
    "    link_text = []\n",
    "\n",
    "    for step in tqdm(sorted(df['step'].unique()), desc='Шаг'):\n",
    "        if step + 1 not in source_indexes:\n",
    "            continue\n",
    "\n",
    "        temp_dict_source = source_indexes[step]['sources_dict']\n",
    "\n",
    "        temp_dict_target = source_indexes[step+1]['sources_dict']\n",
    "\n",
    "        for s, index_source in tqdm(temp_dict_source.items()):\n",
    "            for t, index_target in temp_dict_target.items():\n",
    "                temp_df = df[(df[st] == step) & (\n",
    "                    df[source] == s) & (df[target] == t)]\n",
    "                value = len(temp_df)\n",
    "                if value > frac:\n",
    "                    sources.append(index_source)\n",
    "                    targets.append(index_target)\n",
    "                    values.append(value)\n",
    "                    link_color.append(colors[s].replace(', 1)', ', 0.2)'))\n",
    "\n",
    "    labels = []\n",
    "    colors_labels = []\n",
    "    for key in source_indexes:\n",
    "        for name in source_indexes[key]['sources']:\n",
    "            labels.append(name)\n",
    "            colors_labels.append(colors[name])\n",
    "\n",
    "    perc_values = percent_users(sources, targets, values)\n",
    "\n",
    "    link_text = []\n",
    "    for perc in perc_values:\n",
    "        link_text.append(f\"{perc}%\")\n",
    "\n",
    "    return {'sources': sources,\n",
    "            'targets': targets,\n",
    "            'values': values,\n",
    "            'labels': labels,\n",
    "            'colors_labels': colors_labels,\n",
    "            'link_color': link_color,\n",
    "            'link_text': link_text}"
   ]
  },
  {
   "cell_type": "code",
   "execution_count": null,
   "id": "d2d40a11",
   "metadata": {
    "ExecuteTime": {
     "end_time": "2023-08-04T06:52:43.975467Z",
     "start_time": "2023-08-04T06:52:43.964008Z"
    }
   },
   "outputs": [],
   "source": [
    "# функция для генерации объекта диаграммы Сенкей\n",
    "def plot_senkey_diagram(title, data_dict, width=2000, height=1000):\n",
    "\n",
    "    fig = go.Figure(data=[go.Sankey(\n",
    "        domain=dict(\n",
    "            x=[0, 1],\n",
    "            y=[0, 1]\n",
    "        ),\n",
    "        orientation=\"h\",\n",
    "        valueformat=\".0f\",\n",
    "        node=dict(\n",
    "            pad=50,\n",
    "            thickness=15,\n",
    "            line=dict(color=\"black\", width=0.1),\n",
    "            label=data_dict['labels'],\n",
    "            color=data_dict['colors_labels'],\n",
    "            # customdata=data_dict['players'],\n",
    "            hovertemplate='Всего переходов у команды %{label}: %{value}<extra></extra>'\n",
    "        ),\n",
    "        link=dict(\n",
    "            # arrowlen=15,\n",
    "            source=data_dict['sources'],\n",
    "            target=data_dict['targets'],\n",
    "            value=data_dict['values'],\n",
    "            label=data_dict['link_text'],\n",
    "            color=data_dict['link_color'],\n",
    "            customdata=data_dict['link_text'],\n",
    "            hovertemplate='Из команды %{source.label}<br />' +\n",
    "            'в команду %{target.label}<br /> перешло игроков: %{value}' +\n",
    "            ', что составляет %{customdata}<br />',\n",
    "        ))])\n",
    "    fig.update_layout(title_text=title, font_size=10,\n",
    "                      width=width, height=height)\n",
    "\n",
    "    return fig"
   ]
  },
  {
   "cell_type": "code",
   "execution_count": null,
   "id": "5ad6c291",
   "metadata": {
    "ExecuteTime": {
     "end_time": "2023-08-04T06:52:44.006461Z",
     "start_time": "2023-08-04T06:52:43.980040Z"
    }
   },
   "outputs": [],
   "source": [
    "# вывел топ 20 игроков по количеству переходов\n",
    "top_switchers = players_transfers.groupby('player_id').agg(\n",
    "    num_teams=('team', 'count')). sort_values(by='num_teams', ascending=False)[:20].index"
   ]
  },
  {
   "cell_type": "code",
   "execution_count": null,
   "id": "b051beb0",
   "metadata": {
    "ExecuteTime": {
     "end_time": "2023-08-04T06:52:44.051838Z",
     "start_time": "2023-08-04T06:52:44.013472Z"
    }
   },
   "outputs": [],
   "source": [
    "# для корректной работы функции выбрал только те строки, где переходы не пустые\n",
    "top_transfers = players_transfers[['player_id', 'player', 'transfer_date', 'from_team', 'to_team']].query(\n",
    "    'player_id in @top_switchers and from_team == from_team').sort_values(by=['player', 'transfer_date'])\n",
    "top_transfers"
   ]
  },
  {
   "cell_type": "code",
   "execution_count": null,
   "id": "3aeecc04",
   "metadata": {
    "ExecuteTime": {
     "end_time": "2023-08-04T06:52:44.082797Z",
     "start_time": "2023-08-04T06:52:44.054834Z"
    }
   },
   "outputs": [],
   "source": [
    "# добавил к таблице колонку step - последовательность переходов игрока по командам\n",
    "top_transfers['step'] = top_transfers.groupby('player_id').cumcount() + 1\n",
    "top_transfers"
   ]
  },
  {
   "cell_type": "code",
   "execution_count": null,
   "id": "653e821e",
   "metadata": {
    "ExecuteTime": {
     "end_time": "2023-08-04T06:52:44.129073Z",
     "start_time": "2023-08-04T06:52:44.090140Z"
    }
   },
   "outputs": [],
   "source": [
    "# создаю словарь\n",
    "source_indexes = get_source_index(top_transfers)"
   ]
  },
  {
   "cell_type": "code",
   "execution_count": null,
   "id": "2134a5f1",
   "metadata": {
    "ExecuteTime": {
     "end_time": "2023-08-04T06:52:44.144780Z",
     "start_time": "2023-08-04T06:52:44.134072Z"
    }
   },
   "outputs": [],
   "source": [
    "# генерим цвета\n",
    "colors_dict = colors_for_sources(mode='random', df=top_transfers)"
   ]
  },
  {
   "cell_type": "code",
   "execution_count": null,
   "id": "2d9f3334",
   "metadata": {
    "ExecuteTime": {
     "end_time": "2023-08-04T06:52:44.949395Z",
     "start_time": "2023-08-04T06:52:44.147780Z"
    }
   },
   "outputs": [],
   "source": [
    "# загружаю данные для построения диаграммы\n",
    "data_for_plot = lists_for_plot(top_transfers, source_indexes, colors_dict)"
   ]
  },
  {
   "cell_type": "code",
   "execution_count": null,
   "id": "902bd5c3",
   "metadata": {
    "ExecuteTime": {
     "end_time": "2023-08-04T06:52:45.473312Z",
     "start_time": "2023-08-04T06:52:44.954290Z"
    },
    "scrolled": false
   },
   "outputs": [],
   "source": [
    "senkey_diagram = plot_senkey_diagram(\n",
    "    'Переходы топ-20 игроков между командами КХЛ', data_for_plot)\n",
    "senkey_diagram.show()"
   ]
  },
  {
   "cell_type": "code",
   "execution_count": null,
   "id": "b92d859c",
   "metadata": {
    "ExecuteTime": {
     "end_time": "2023-08-04T06:52:45.503684Z",
     "start_time": "2023-08-04T06:52:45.478899Z"
    }
   },
   "outputs": [],
   "source": [
    "# нашел топ-пять команд по количеству игравших в них игроков\n",
    "top_teams = players_KHL.groupby('team').agg(num_players=(\n",
    "    'player_id', 'count')).sort_values(by='num_players', ascending=False)[:5].index"
   ]
  },
  {
   "cell_type": "code",
   "execution_count": null,
   "id": "75f8a9ab",
   "metadata": {
    "ExecuteTime": {
     "end_time": "2023-08-04T06:52:45.534647Z",
     "start_time": "2023-08-04T06:52:45.508170Z"
    }
   },
   "outputs": [],
   "source": [
    "# отобрал все трансферы, которые осуществлялись либо из, либо в команду топ-5\n",
    "top_teams_transfers = players_transfers[['player_id', 'player', 'transfer_date', 'team', 'from_team', 'to_team']].query(\n",
    "    'from_team in @top_teams or to_team in @top_teams').sort_values(by=['player', 'transfer_date'])\n",
    "top_teams_transfers"
   ]
  },
  {
   "cell_type": "code",
   "execution_count": null,
   "id": "8a48592a",
   "metadata": {
    "ExecuteTime": {
     "end_time": "2023-08-04T06:52:45.564980Z",
     "start_time": "2023-08-04T06:52:45.538388Z"
    }
   },
   "outputs": [],
   "source": [
    "# добавил к таблице колонку step, отображающую переходы игроков по командам\n",
    "top_teams_transfers['step'] = top_teams_transfers.groupby(\n",
    "    ['player_id']).cumcount() + 1\n",
    "top_teams_transfers.sort_values(by='step', ascending=False)"
   ]
  },
  {
   "cell_type": "code",
   "execution_count": null,
   "id": "0ff24dbb",
   "metadata": {
    "ExecuteTime": {
     "end_time": "2023-08-04T06:52:47.916997Z",
     "start_time": "2023-08-04T06:52:45.568753Z"
    },
    "scrolled": false
   },
   "outputs": [],
   "source": [
    "source_indexes = get_source_index(top_teams_transfers)\n",
    "colors_dict = colors_for_sources(mode='random', df=top_teams_transfers)\n",
    "data_for_plot = lists_for_plot(\n",
    "    top_teams_transfers, source_indexes, colors_dict)"
   ]
  },
  {
   "cell_type": "code",
   "execution_count": null,
   "id": "891739b6",
   "metadata": {
    "ExecuteTime": {
     "end_time": "2023-08-04T06:52:47.994493Z",
     "start_time": "2023-08-04T06:52:47.921947Z"
    },
    "scrolled": false
   },
   "outputs": [],
   "source": [
    "senkey_diagram = plot_senkey_diagram(\n",
    "    'Перехоы игроков между топ-5 команд КХЛ', data_for_plot, 2000, 4000)\n",
    "senkey_diagram.show()"
   ]
  },
  {
   "cell_type": "markdown",
   "id": "68ba8bdd",
   "metadata": {},
   "source": [
    "### Сhord диаграмма для отображения переходов игроков"
   ]
  },
  {
   "cell_type": "code",
   "execution_count": null,
   "id": "b245b3af",
   "metadata": {
    "ExecuteTime": {
     "end_time": "2023-08-04T06:52:49.211148Z",
     "start_time": "2023-08-04T06:52:47.998492Z"
    }
   },
   "outputs": [],
   "source": [
    "top_transfers['player_id'] = top_transfers['player_id'].astype(int)\n",
    "\n",
    "# создал список команд из которых и в которые переходили игроки\n",
    "team_list = top_transfers['from_team'].unique(\n",
    ").tolist() + top_transfers['to_team'].unique().tolist()\n",
    "# пронумеровал найденные команды\n",
    "number_team_list = np.arange(0, len(set(team_list))).tolist()\n",
    "\n",
    "set(team_list)\n",
    "\n",
    "keys = list(set(team_list))\n",
    "dic = {k: v for k, v in zip(keys, number_team_list)}\n",
    "\n",
    "# бобавил присвоенные номера команд в виде Id команды к таблице переходов\n",
    "top_transfers['team_id_from'] = top_transfers['from_team'].map(dic)\n",
    "top_transfers['team_id_to'] = top_transfers['to_team'].map(dic)\n",
    "\n",
    "# посчитал количество переходов\n",
    "transfers_count = top_transfers.groupby(\n",
    "    ['team_id_from', 'team_id_to']).transfer_date.count().reset_index()\n",
    "\n",
    "# добавил названия узлв\n",
    "tms = pd.DataFrame.from_dict(dic, 'index').reset_index().rename(\n",
    "    columns={'index': 'name', 0: 'index'})\n",
    "nodes = hv.Dataset(tms, 'index', 'name')\n",
    "\n",
    "chord = hv.Chord((transfers_count, nodes), [\n",
    "                 'team_id_from', 'team_id_to'], ['transfer_date'])\n",
    "\n",
    "chord.opts(\n",
    "    opts.Chord(title='Переходы топ-20 игроков между командами',\n",
    "               cmap='Category20',\n",
    "               edge_cmap='Category20',\n",
    "               edge_color=dim('team_id_from').str(),\n",
    "               labels='name',\n",
    "               node_color=dim('index').str()\n",
    "               )\n",
    ")\n",
    "\n",
    "hv.output(size=300)\n",
    "output_file('test.html')\n",
    "show(hv.render(chord))"
   ]
  },
  {
   "cell_type": "code",
   "execution_count": null,
   "id": "4aa54673",
   "metadata": {
    "ExecuteTime": {
     "end_time": "2023-08-04T06:52:49.242276Z",
     "start_time": "2023-08-04T06:52:49.215139Z"
    }
   },
   "outputs": [],
   "source": [
    "top_tr_teams = players_transfers.groupby(['from_team', 'to_team'], as_index=False).agg(\n",
    "    num_players=('player_id', 'count')).sort_values(by='num_players', ascending=False)[:20]\n",
    "\n",
    "top_tr_teams['team_id_from'] = top_tr_teams['from_team'].map(teams_dict)\n",
    "top_tr_teams['team_id_to'] = top_tr_teams['to_team'].map(teams_dict)\n",
    "\n",
    "top_tr_teams = top_tr_teams.fillna(0)\n",
    "\n",
    "top_tr_teams[['team_id_from', 'team_id_to']] = top_tr_teams[[\n",
    "    'team_id_from', 'team_id_to']].astype(int)\n",
    "top_tr_teams"
   ]
  },
  {
   "cell_type": "code",
   "execution_count": null,
   "id": "dc27a033",
   "metadata": {
    "ExecuteTime": {
     "end_time": "2023-08-04T06:52:49.272708Z",
     "start_time": "2023-08-04T06:52:49.248570Z"
    }
   },
   "outputs": [],
   "source": [
    "# создал датасет с узлами - это уникальные id и названия команд\n",
    "trs_nodes = pd.concat([\n",
    "    top_tr_teams[['team_id_from', 'from_team']].rename(\n",
    "        columns={'team_id_from': 'id', 'from_team': 'team'}),\n",
    "    top_tr_teams[['team_id_to', 'to_team']].rename(\n",
    "        columns={'team_id_to': 'id', 'to_team': 'team'})\n",
    "], ignore_index=True, axis=0).drop_duplicates()\n",
    "\n",
    "trs_nodes"
   ]
  },
  {
   "cell_type": "code",
   "execution_count": null,
   "id": "2385a9db",
   "metadata": {
    "ExecuteTime": {
     "end_time": "2023-08-04T06:52:50.125128Z",
     "start_time": "2023-08-04T06:52:49.278602Z"
    },
    "scrolled": false
   },
   "outputs": [],
   "source": [
    "nodes = hv.Dataset(trs_nodes, 'id', 'team')\n",
    "\n",
    "chord = hv.Chord((top_tr_teams, nodes), [\n",
    "                 'team_id_from', 'team_id_to'], ['num_players'])\n",
    "\n",
    "chord.opts(\n",
    "    opts.Chord(title='Топ-20 переходов между командами',\n",
    "               cmap='Category20',\n",
    "               edge_cmap='Category20',\n",
    "               edge_color=dim('team_id_from').str(),\n",
    "               labels='team',\n",
    "               tools=['hover'],\n",
    "               node_color=dim('id').str()))\n",
    "hv.extension('bokeh')\n",
    "hv.output(size=300)\n",
    "output_file('test.html')\n",
    "show(hv.render(chord))"
   ]
  },
  {
   "cell_type": "markdown",
   "id": "e2166c68",
   "metadata": {},
   "source": [
    "## Определение числа Лемтюгова"
   ]
  },
  {
   "cell_type": "markdown",
   "id": "1d33e27c",
   "metadata": {},
   "source": [
    "### Поиск одноклубников"
   ]
  },
  {
   "cell_type": "code",
   "execution_count": null,
   "id": "15cee45a",
   "metadata": {
    "ExecuteTime": {
     "end_time": "2023-08-04T06:52:50.527200Z",
     "start_time": "2023-08-04T06:52:50.132726Z"
    }
   },
   "outputs": [],
   "source": [
    "peers = players_transfers[['player_id', 'season', 'team', 'player', 'from_team', 'to_team', 'start_date', 'end_date']].merge(\n",
    "    players_transfers[['player_id', 'season', 'team', 'player', 'from_team', 'to_team', 'start_date', 'end_date']], on=['season', 'team'], how='left')\n",
    "peers = peers.query('player_id_x != player_id_y')\n",
    "peers"
   ]
  },
  {
   "cell_type": "code",
   "execution_count": null,
   "id": "8763c9a4",
   "metadata": {
    "ExecuteTime": {
     "end_time": "2023-08-04T06:52:50.573463Z",
     "start_time": "2023-08-04T06:52:50.534017Z"
    }
   },
   "outputs": [],
   "source": [
    "# количество id после объединения не изменилось\n",
    "peers['player_id_x'].nunique()"
   ]
  },
  {
   "cell_type": "code",
   "execution_count": null,
   "id": "d974bebe",
   "metadata": {
    "ExecuteTime": {
     "end_time": "2023-08-04T06:52:50.635991Z",
     "start_time": "2023-08-04T06:52:50.579860Z"
    }
   },
   "outputs": [],
   "source": [
    "peers['peer_flag'] = ''\n",
    "peers['peer_flag'] = peers['peer_flag'].mask(\n",
    "    ((peers['start_date_x'] <= peers['end_date_y']) & (peers['end_date_x'] >= peers['start_date_y'])), 1)"
   ]
  },
  {
   "cell_type": "code",
   "execution_count": null,
   "id": "09cd664e",
   "metadata": {
    "ExecuteTime": {
     "end_time": "2023-08-04T06:52:50.699739Z",
     "start_time": "2023-08-04T06:52:50.641982Z"
    }
   },
   "outputs": [],
   "source": [
    "peers['peer_flag'].value_counts()"
   ]
  },
  {
   "cell_type": "code",
   "execution_count": null,
   "id": "1f4d8a1e",
   "metadata": {
    "ExecuteTime": {
     "end_time": "2023-08-04T06:52:51.221650Z",
     "start_time": "2023-08-04T06:52:50.703668Z"
    }
   },
   "outputs": [],
   "source": [
    "peers[peers['peer_flag'] == 1].groupby(['player_id_x', 'player_x'])[\n",
    "    'player_id_y'].nunique().sort_values(ascending=False)[:30]"
   ]
  },
  {
   "cell_type": "code",
   "execution_count": null,
   "id": "0b1c62d8",
   "metadata": {
    "ExecuteTime": {
     "end_time": "2023-08-04T06:52:51.428099Z",
     "start_time": "2023-08-04T06:52:51.228328Z"
    }
   },
   "outputs": [],
   "source": [
    "real_peers = peers[peers['peer_flag'] == 1].copy()\n",
    "real_peers = real_peers[['player_id_x', 'player_id_y']]\n",
    "real_peers"
   ]
  },
  {
   "cell_type": "code",
   "execution_count": null,
   "id": "96726f5f",
   "metadata": {
    "ExecuteTime": {
     "end_time": "2023-08-04T06:52:51.696641Z",
     "start_time": "2023-08-04T06:52:51.435093Z"
    }
   },
   "outputs": [],
   "source": [
    "dictio = real_peers.groupby('player_id_x').agg(\n",
    "    {'player_id_y': 'unique'}).to_dict()"
   ]
  },
  {
   "cell_type": "code",
   "execution_count": null,
   "id": "fff03e6e",
   "metadata": {
    "ExecuteTime": {
     "end_time": "2023-08-04T06:52:51.711928Z",
     "start_time": "2023-08-04T06:52:51.700556Z"
    }
   },
   "outputs": [],
   "source": [
    "dictio_1 = {}\n",
    "for k, l in dictio.items():\n",
    "    dictio_1.update(l)"
   ]
  },
  {
   "cell_type": "code",
   "execution_count": null,
   "id": "277e62e3",
   "metadata": {
    "ExecuteTime": {
     "end_time": "2023-08-04T06:52:51.743314Z",
     "start_time": "2023-08-04T06:52:51.717244Z"
    }
   },
   "outputs": [],
   "source": [
    "for k, l in dictio_1.items():\n",
    "    dictio_1[k] = l.tolist()"
   ]
  },
  {
   "cell_type": "code",
   "execution_count": null,
   "id": "415ebf9d",
   "metadata": {
    "ExecuteTime": {
     "end_time": "2023-08-04T06:52:51.759313Z",
     "start_time": "2023-08-04T06:52:51.749245Z"
    }
   },
   "outputs": [],
   "source": [
    "def calculate_distance(input_graph, source):\n",
    "    Q = Queue()\n",
    "    distance_dict = {k: 999999999 for k in input_graph.keys()}\n",
    "    visited_vertices = list()\n",
    "    Q.put(source)\n",
    "    visited_vertices.append(source)\n",
    "    while not Q.empty():\n",
    "        vertex = Q.get()\n",
    "        if vertex == source:\n",
    "            distance_dict[vertex] = 0\n",
    "        for u in input_graph[vertex]:\n",
    "            if u not in visited_vertices:\n",
    "                # update the distance\n",
    "                if distance_dict[u] > distance_dict[vertex] + 1:\n",
    "                    distance_dict[u] = distance_dict[vertex] + 1\n",
    "                Q.put(u)\n",
    "                visited_vertices.append(u)\n",
    "    return distance_dict"
   ]
  },
  {
   "cell_type": "code",
   "execution_count": null,
   "id": "45ad4b11",
   "metadata": {
    "ExecuteTime": {
     "end_time": "2023-08-04T06:52:51.775245Z",
     "start_time": "2023-08-04T06:52:51.764244Z"
    }
   },
   "outputs": [],
   "source": [
    "search_name = 'Nikolai Lemtyugov'\n",
    "[id for id, name in players_KHL_dict.items() if name == search_name]"
   ]
  },
  {
   "cell_type": "code",
   "execution_count": null,
   "id": "51e77f6d",
   "metadata": {
    "ExecuteTime": {
     "end_time": "2023-08-04T06:52:57.137679Z",
     "start_time": "2023-08-04T06:52:51.780327Z"
    }
   },
   "outputs": [],
   "source": [
    "distances = calculate_distance(dictio_1, 9263)"
   ]
  },
  {
   "cell_type": "code",
   "execution_count": null,
   "id": "15bd973c",
   "metadata": {
    "ExecuteTime": {
     "end_time": "2023-08-04T06:52:57.183958Z",
     "start_time": "2023-08-04T06:52:57.142690Z"
    }
   },
   "outputs": [],
   "source": [
    "lemtyugov_number = pd.DataFrame.from_dict(distances, orient='index').reset_index(\n",
    ").rename(columns={'index': 'player_id', 0: 'number'})\n",
    "\n",
    "lemtyugov_number['player'] = lemtyugov_number['player_id'].map(players_KHL_dict)\n",
    "\n",
    "lemtyugov_number = lemtyugov_number[['player_id', 'player', 'number']]\n",
    "lemtyugov_number.sort_values(by='number', ascending=False)"
   ]
  },
  {
   "cell_type": "code",
   "execution_count": null,
   "id": "39743daf",
   "metadata": {
    "ExecuteTime": {
     "end_time": "2023-08-04T06:52:57.199958Z",
     "start_time": "2023-08-04T06:52:57.186958Z"
    }
   },
   "outputs": [],
   "source": [
    "lemtyugov_number['number'].agg(['mean', 'median'])"
   ]
  },
  {
   "cell_type": "markdown",
   "id": "e576f595",
   "metadata": {},
   "source": [
    "### Тестирование"
   ]
  },
  {
   "cell_type": "code",
   "execution_count": null,
   "id": "3c4a2c26",
   "metadata": {
    "ExecuteTime": {
     "end_time": "2023-08-04T06:52:57.215031Z",
     "start_time": "2023-08-04T06:52:57.202957Z"
    }
   },
   "outputs": [],
   "source": [
    "search_name = 'Denis Kazionov'\n",
    "[id for id, name in players_KHL_dict.items() if name == search_name]"
   ]
  },
  {
   "cell_type": "code",
   "execution_count": null,
   "id": "e67943d2",
   "metadata": {
    "ExecuteTime": {
     "end_time": "2023-08-04T06:53:02.955983Z",
     "start_time": "2023-08-04T06:52:57.218961Z"
    }
   },
   "outputs": [],
   "source": [
    "distances = calculate_distance(dictio_1, 12232)"
   ]
  },
  {
   "cell_type": "code",
   "execution_count": null,
   "id": "e2b4718c",
   "metadata": {
    "ExecuteTime": {
     "end_time": "2023-08-04T06:53:02.986397Z",
     "start_time": "2023-08-04T06:53:02.960992Z"
    }
   },
   "outputs": [],
   "source": [
    "kazionov_number = pd.DataFrame.from_dict(distances, orient='index').reset_index(\n",
    ").rename(columns={'index': 'player_id', 0: 'number'})\n",
    "\n",
    "kazionov_number['player'] = kazionov_number['player_id'].map(players_KHL_dict)\n",
    "\n",
    "kazionov_number = kazionov_number[['player_id', 'player', 'number']]\n",
    "kazionov_number.sort_values(by='number', ascending=False)"
   ]
  },
  {
   "cell_type": "markdown",
   "id": "8e76601d",
   "metadata": {},
   "source": [
    "### Визуализация графа связей между игроками"
   ]
  },
  {
   "cell_type": "code",
   "execution_count": null,
   "id": "c70381e1",
   "metadata": {
    "ExecuteTime": {
     "end_time": "2023-08-04T06:53:03.210394Z",
     "start_time": "2023-08-04T06:53:02.989321Z"
    }
   },
   "outputs": [],
   "source": [
    "real_peers.groupby('player_id_x').agg({'player_id_y': 'unique'})"
   ]
  },
  {
   "cell_type": "code",
   "execution_count": null,
   "id": "d0ed0a38",
   "metadata": {
    "ExecuteTime": {
     "end_time": "2023-08-04T06:53:03.333712Z",
     "start_time": "2023-08-04T06:53:03.218000Z"
    }
   },
   "outputs": [],
   "source": [
    "real_peers_names = pd.DataFrame()\n",
    "real_peers_names['player_id_x'] = real_peers['player_id_x']\n",
    "real_peers_names['player_x'] = real_peers['player_id_x'].map(players_dict)\n",
    "real_peers_names['player_id_y'] = real_peers['player_id_y']\n",
    "real_peers_names['player_y'] = real_peers['player_id_y'].map(players_dict)\n",
    "real_peers_names"
   ]
  },
  {
   "cell_type": "code",
   "execution_count": null,
   "id": "72321a7a",
   "metadata": {
    "ExecuteTime": {
     "end_time": "2023-08-04T06:53:03.696485Z",
     "start_time": "2023-08-04T06:53:03.339786Z"
    }
   },
   "outputs": [],
   "source": [
    "top_id = peers[peers['peer_flag'] == 1].groupby(['player_id_x'])[\n",
    "    'player_id_y'].nunique().sort_values(ascending=False)[:50].index.to_list()\n",
    "top_ids = real_peers_names.query('player_id_x in @top_id')"
   ]
  },
  {
   "cell_type": "code",
   "execution_count": null,
   "id": "2e012439",
   "metadata": {
    "ExecuteTime": {
     "end_time": "2023-08-04T06:53:32.661397Z",
     "start_time": "2023-08-04T06:53:03.702493Z"
    }
   },
   "outputs": [],
   "source": [
    "# Применяю метод from_pandas_edgelist библиотеки Networks для создания графа\n",
    "G = nx.from_pandas_edgelist(top_ids, 'player_x', 'player_y')\n",
    "pos = nx.spring_layout(G)"
   ]
  },
  {
   "cell_type": "code",
   "execution_count": null,
   "id": "16fe38ca",
   "metadata": {
    "ExecuteTime": {
     "end_time": "2023-08-04T06:53:32.676949Z",
     "start_time": "2023-08-04T06:53:32.668397Z"
    }
   },
   "outputs": [],
   "source": [
    "# добавляю атрибут с информацией о расположении узлов\n",
    "for node in G.nodes:\n",
    "    G.nodes[node]['pos'] = list(pos[node])"
   ]
  },
  {
   "cell_type": "code",
   "execution_count": null,
   "id": "d22ece56",
   "metadata": {
    "ExecuteTime": {
     "end_time": "2023-08-04T06:53:33.081428Z",
     "start_time": "2023-08-04T06:53:32.682012Z"
    }
   },
   "outputs": [],
   "source": [
    "edge_x = []\n",
    "edge_y = []\n",
    "for edge in G.edges():\n",
    "    x0, y0 = G.nodes[edge[0]]['pos']\n",
    "    x1, y1 = G.nodes[edge[1]]['pos']\n",
    "    edge_x.append(x0)\n",
    "    edge_x.append(x1)\n",
    "    edge_x.append(None)\n",
    "    edge_y.append(y0)\n",
    "    edge_y.append(y1)\n",
    "    edge_y.append(None)\n",
    "\n",
    "edge_trace = go.Scatter(\n",
    "    x=edge_x, y=edge_y,\n",
    "    line=dict(width=0.5, color='#888'),\n",
    "    hoverinfo='none',\n",
    "    mode='lines')\n",
    "\n",
    "node_x = []\n",
    "node_y = []\n",
    "for node in G.nodes():\n",
    "    x, y = G.nodes[node]['pos']\n",
    "    node_x.append(x)\n",
    "    node_y.append(y)\n",
    "\n",
    "node_trace = go.Scatter(\n",
    "    x=node_x, y=node_y,\n",
    "    mode='markers',\n",
    "    hoverinfo='text',\n",
    "    marker=dict(\n",
    "        showscale=True,\n",
    "        # colorscale options\n",
    "        # 'Greys' | 'YlGnBu' | 'Greens' | 'YlOrRd' | 'Bluered' | 'RdBu' |\n",
    "        # 'Reds' | 'Blues' | 'Picnic' | 'Rainbow' | 'Portland' | 'Jet' |\n",
    "        # 'Hot' | 'Blackbody' | 'Earth' | 'Electric' | 'Viridis' |\n",
    "        colorscale='Hot',\n",
    "        reversescale=True,\n",
    "        color=[],\n",
    "        size=10,\n",
    "        colorbar=dict(\n",
    "            thickness=15,\n",
    "            title='Node Connections',\n",
    "            xanchor='left',\n",
    "            titleside='right'\n",
    "        ),\n",
    "        line_width=2))"
   ]
  },
  {
   "cell_type": "code",
   "execution_count": null,
   "id": "257263f8",
   "metadata": {
    "ExecuteTime": {
     "end_time": "2023-08-04T06:53:33.143897Z",
     "start_time": "2023-08-04T06:53:33.086332Z"
    }
   },
   "outputs": [],
   "source": [
    "node_adjacencies = []\n",
    "node_text = []\n",
    "for node, adjacencies in enumerate(G.adjacency()):\n",
    "    node_adjacencies.append(len(adjacencies[1]))\n",
    "    node_text.append(\n",
    "        'player: '+str(adjacencies[0]) + ' ' + '# of connections: '+str(len(adjacencies[1])))\n",
    "\n",
    "node_trace.marker.color = node_adjacencies\n",
    "node_trace.text = node_text"
   ]
  },
  {
   "cell_type": "code",
   "execution_count": null,
   "id": "bb770601",
   "metadata": {
    "ExecuteTime": {
     "end_time": "2023-08-04T06:53:34.133397Z",
     "start_time": "2023-08-04T06:53:33.146895Z"
    }
   },
   "outputs": [],
   "source": [
    "fig = go.Figure(data=[edge_trace, node_trace],\n",
    "                layout=go.Layout(width=1000, height=1000,\n",
    "                title='Граф топ-50 игроков и их связей',\n",
    "                titlefont_size=16,\n",
    "                showlegend=False,\n",
    "                hovermode='closest',\n",
    "                margin=dict(b=20, l=5, r=5, t=40),\n",
    "                annotations=[dict(\n",
    "                    text=\"\",\n",
    "                    showarrow=False,\n",
    "                    xref=\"paper\", yref=\"paper\",\n",
    "                    x=0.005, y=-0.002)],\n",
    "                xaxis=dict(showgrid=False, zeroline=False,\n",
    "                           showticklabels=False),\n",
    "                yaxis=dict(showgrid=False, zeroline=False, showticklabels=False))\n",
    "                )\n",
    "fig.show()"
   ]
  },
  {
   "cell_type": "code",
   "execution_count": null,
   "id": "a677f77f",
   "metadata": {
    "ExecuteTime": {
     "end_time": "2023-08-04T06:53:34.889652Z",
     "start_time": "2023-08-04T06:53:34.136388Z"
    }
   },
   "outputs": [],
   "source": [
    "kwargs = dict(width=800, height=800, xaxis=None, yaxis=None)\n",
    "opts.defaults(opts.Nodes(**kwargs), opts.Graph(**kwargs))\n",
    "\n",
    "colors = ['#000000']+hv.Cycle('Category20').values\n",
    "\n",
    "graph = hv.Graph.from_networkx(G, pos)\n",
    "\n",
    "graph.opts(cmap=colors, node_size=5, edge_line_width=1,\n",
    "           node_line_color='gray')\n",
    "\n",
    "hv.extension('bokeh')\n",
    "hv.output(size=100)\n",
    "output_file('test.html')\n",
    "show(hv.render(graph))"
   ]
  },
  {
   "cell_type": "code",
   "execution_count": null,
   "id": "b5eac38f",
   "metadata": {
    "ExecuteTime": {
     "end_time": "2023-08-04T06:54:29.445751Z",
     "start_time": "2023-08-04T06:53:34.892654Z"
    }
   },
   "outputs": [],
   "source": [
    "bundled = bundle_graph(graph)\n",
    "\n",
    "hv.extension('bokeh')\n",
    "hv.output(size=100)\n",
    "output_file('test.html')\n",
    "show(hv.render(bundled))"
   ]
  },
  {
   "cell_type": "markdown",
   "id": "a5fb56ff",
   "metadata": {},
   "source": [
    "## Проверка гипотез"
   ]
  },
  {
   "cell_type": "markdown",
   "id": "093b8e51",
   "metadata": {},
   "source": [
    "### Гипотеза: Лемтюгов – самый популярный хоккеист в лиге, то есть  он обладает самым большим количеством одноклубников"
   ]
  },
  {
   "cell_type": "code",
   "execution_count": null,
   "id": "755a4e4b",
   "metadata": {
    "ExecuteTime": {
     "end_time": "2023-08-04T06:54:29.956441Z",
     "start_time": "2023-08-04T06:54:29.449691Z"
    },
    "scrolled": false
   },
   "outputs": [],
   "source": [
    "peers[peers['peer_flag'] == 1].groupby(['player_id_x', 'player_x'])[\n",
    "    'player_id_y'].nunique().sort_values(ascending=False)[:30]"
   ]
  },
  {
   "cell_type": "markdown",
   "id": "f7aab29d",
   "metadata": {},
   "source": [
    "Максимальное число одноклубников которое имеет игрок - 529. Такое значение у хоккеиста Евгения Лапенкова. В списке по количеству числе одноклубников Н.Лемтюгов на 30-ой позиции. Он имеет 410 одноклубников\n",
    "\n",
    "Гипотеза не подтвердилась"
   ]
  },
  {
   "cell_type": "markdown",
   "id": "a2764a0f",
   "metadata": {},
   "source": [
    "### Гипотеза: Игроки с низким значением числа Лемтюгова играли в среднем в большем количестве команд, чем игроки, у которых это значение больше."
   ]
  },
  {
   "cell_type": "code",
   "execution_count": null,
   "id": "43c29ae6",
   "metadata": {
    "ExecuteTime": {
     "end_time": "2023-08-04T06:54:30.002412Z",
     "start_time": "2023-08-04T06:54:29.960885Z"
    }
   },
   "outputs": [],
   "source": [
    "players_KHL_teams = players_KHL.groupby(['player_id', 'player']).agg(\n",
    "    teams=('team', 'count')).reset_index()\n",
    "players_KHL_teams.sort_values(\n",
    "    by='teams', ascending=False).reset_index(drop=True)"
   ]
  },
  {
   "cell_type": "code",
   "execution_count": null,
   "id": "eec624fa",
   "metadata": {
    "ExecuteTime": {
     "end_time": "2023-08-04T06:54:30.033524Z",
     "start_time": "2023-08-04T06:54:30.009031Z"
    }
   },
   "outputs": [],
   "source": [
    "lemtyugov_number"
   ]
  },
  {
   "cell_type": "code",
   "execution_count": null,
   "id": "728ddc81",
   "metadata": {
    "ExecuteTime": {
     "end_time": "2023-08-04T06:54:30.064369Z",
     "start_time": "2023-08-04T06:54:30.038422Z"
    }
   },
   "outputs": [],
   "source": [
    "players_merged = pd.merge(players_KHL_teams, lemtyugov_number, on=[\n",
    "                          'player_id', 'player'], how='left')\n",
    "players_merged"
   ]
  },
  {
   "cell_type": "code",
   "execution_count": null,
   "id": "c07cf477",
   "metadata": {
    "ExecuteTime": {
     "end_time": "2023-08-04T06:54:30.095892Z",
     "start_time": "2023-08-04T06:54:30.069476Z"
    }
   },
   "outputs": [],
   "source": [
    "players_merged.groupby('number').agg(mean_count_team=('teams', 'mean'))"
   ]
  },
  {
   "cell_type": "markdown",
   "id": "b337a010",
   "metadata": {},
   "source": [
    "Можно сделать вывод о том, что чем меньше число Лемтюгова, тем больше команд сменил игрок. \n",
    "\n",
    "Гипотеза подтвердилась."
   ]
  },
  {
   "cell_type": "markdown",
   "id": "e0f3beb7",
   "metadata": {},
   "source": [
    "# Выводы:\n"
   ]
  },
  {
   "cell_type": "markdown",
   "id": "e323482a",
   "metadata": {},
   "source": [
    "Исследование проводилось на основании данных о хоккеистах, игравиших в КХЛ с 2008 по 2023 год.\n",
    "\n",
    "Цель работы - поиск аналога числа Эрдёша — Бэйкона (число Лемтюгова) достигнута. Согласно полученным данным максимальным числом Лемтюгова является число 3. \n",
    "\n",
    "В ходе работы установлено, что максимальное количество уникальных команд, в которых участвовал игрок - 11. Такое количество команд сменили Г.Клименко, А.Рязанцев, Г.Столяров. Д.Казионов. Н.Лемтюгов сменил 10 команд.\n",
    "\n",
    "Также выявлено максимальное значение переходов - 19, столько переходов сделал Е.Лапенков. Также большим количеством переходов (18) обладает Е.Миловзоров. Топ-20 игроков по количеству переходов завершается на 16-ти переходах. Н.Лемтюгов в топ-20 не попал, хотя сменил довольно большое количество команд. Это связано с тем, что он переходил в те клубы, в которых уже играл ранее.\n",
    "\n",
    "Были проверены гипотезы:\n",
    "1)Лемтюгов – самый популярный хоккеист в лиге, то есть он обладает самым большим количеством одноклубников.\n",
    "\n",
    "Максимальное число одноклубников которое имеет игрок - 529. Такое значение у хоккеиста Евгения Лапенкова. В списке по количеству числе одноклубников Н.Лемтюгов на 30-ой позиции. Он имеет 410 одноклубников.\n",
    "\n",
    "Гипотеза не подтвердилась\n",
    "\n",
    "2)Игроки с низким значением числа Лемтюгова играли в среднем в большем количестве команд, чем игроки, у которых это значение больше.\n",
    "\n",
    "Согласно полученным данным игроки с числом Лемтюгова 1 - сменили в среднем 8 команд, с числом 2 - 3 командв, а с числом 1 - 1 команду.\n",
    "\n",
    "Гипотеза подтвердилась."
   ]
  }
 ],
 "metadata": {
  "kernelspec": {
   "display_name": "Python 3 (ipykernel)",
   "language": "python",
   "name": "python3"
  },
  "language_info": {
   "codemirror_mode": {
    "name": "ipython",
    "version": 3
   },
   "file_extension": ".py",
   "mimetype": "text/x-python",
   "name": "python",
   "nbconvert_exporter": "python",
   "pygments_lexer": "ipython3",
   "version": "3.9.13"
  },
  "toc": {
   "base_numbering": 1,
   "nav_menu": {},
   "number_sections": true,
   "sideBar": true,
   "skip_h1_title": false,
   "title_cell": "Table of Contents",
   "title_sidebar": "Contents",
   "toc_cell": false,
   "toc_position": {
    "height": "calc(100% - 180px)",
    "left": "10px",
    "top": "150px",
    "width": "406.875px"
   },
   "toc_section_display": true,
   "toc_window_display": true
  },
  "varInspector": {
   "cols": {
    "lenName": 16,
    "lenType": 16,
    "lenVar": 40
   },
   "kernels_config": {
    "python": {
     "delete_cmd_postfix": "",
     "delete_cmd_prefix": "del ",
     "library": "var_list.py",
     "varRefreshCmd": "print(var_dic_list())"
    },
    "r": {
     "delete_cmd_postfix": ") ",
     "delete_cmd_prefix": "rm(",
     "library": "var_list.r",
     "varRefreshCmd": "cat(var_dic_list()) "
    }
   },
   "types_to_exclude": [
    "module",
    "function",
    "builtin_function_or_method",
    "instance",
    "_Feature"
   ],
   "window_display": false
  }
 },
 "nbformat": 4,
 "nbformat_minor": 5
}
